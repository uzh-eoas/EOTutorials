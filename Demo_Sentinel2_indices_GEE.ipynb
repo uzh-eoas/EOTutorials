{
 "cells": [
  {
   "cell_type": "markdown",
   "id": "a5bbbe479e404865",
   "metadata": {
    "collapsed": true,
    "jupyter": {
     "outputs_hidden": true
    }
   },
   "source": [
    "# Sentinel-2 spectral indices using Google Earth Engine"
   ]
  },
  {
   "cell_type": "markdown",
   "id": "cdcaeaa2d616ae70",
   "metadata": {},
   "source": [
    "This demo gives an overview of filtering Sentinel-2 data by date and area and the calculation of spectral indices. It uses the Google Earth Engine (GEE) API package for python. This allows to compute large amount of satellite (and other remote sensing) data without having to download the huge data sets. To be able to use this package a GEE account is required."
   ]
  },
  {
   "cell_type": "markdown",
   "id": "8b6feb64c111abc2",
   "metadata": {},
   "source": [
    "### Start a GEE session"
   ]
  },
  {
   "cell_type": "markdown",
   "id": "30490dc1a5402ae5",
   "metadata": {},
   "source": [
    "The first time the \"ee\" package is used, you need to run ee.Authenticate(). This will open a window on the web where you have to log in with your GEE credentials. This will create an access token that needs to be pasted in the box that appeared below (this needs to be done at the beginning or when the kernel/session is restarted). To start the connection with your GEE account, you run ee.Initialize(). If you have only one project on your GEE account, you do not need to specify more. If you have multiple projects, you can specify with ee.Initialize(project=project-number). To find the project number, you have to log in to GEE online and click on the respective project."
   ]
  },
  {
   "cell_type": "code",
   "execution_count": null,
   "id": "ed800074e42b7622",
   "metadata": {
    "ExecuteTime": {
     "end_time": "2025-08-12T06:42:59.693984Z",
     "start_time": "2025-08-12T06:42:59.165196Z"
    }
   },
   "outputs": [],
   "source": [
    "# Load the packages\n",
    "import ee       # GEE API package\n",
    "import geemap   # package for interactive plotting->does not work on PyCharm\n",
    "\n",
    "# Login with the GEE credentials and connect to your account\n",
    "ee.Authenticate()   # needs to be done once in a while\n",
    "ee.Initialize()     # starts the connection to your GEE account and allows you to use all the datasets you might have stored there"
   ]
  },
  {
   "cell_type": "markdown",
   "id": "1bc991e0-2ec0-417e-8d11-052e8ab18e61",
   "metadata": {},
   "source": [
    "---"
   ]
  },
  {
   "cell_type": "markdown",
   "id": "865b27c8-d3ac-4326-b814-fa726f6e8171",
   "metadata": {},
   "source": [
    "## Selecting and Visualizing Sentinel-2 Data"
   ]
  },
  {
   "cell_type": "markdown",
   "id": "6bcfb824-84bd-4d99-b599-af9005820c24",
   "metadata": {},
   "source": [
    "**Sentinel-2**<br>\n",
    "Sentinel-2 is a passive optical multispectral satellite mission which can image the Earth surface using 13 different spectral bands from the visible to the short-wave infrared parts of the spectrum$^{[1]}$.<br>\n",
    "In the table below the 13 different bands are listed with their band numer, a description, the center wavelength from the elecromagnetic spectrum and the spatial resolution."
   ]
  },
  {
   "cell_type": "markdown",
   "id": "d9f22648-e943-4d53-afbc-aef0dbd9da83",
   "metadata": {},
   "source": [
    "| Sentinel-2 band | Description     | Central wavelength [nm] | Resolution [m] | \n",
    "|:----------------|:----------------|:------------------------|:---------------|\n",
    "| B01             | Coastal aerosol | 443                     | 60             | \n",
    "| B02             | Blue            | 490                     | 10             |\n",
    "| B03             | Green           | 560                     | 10             | \n",
    "| B04             | Red             | 665                     | 10             | \n",
    "| B05             | Veg. red edge   | 705                     | 20             | \n",
    "| B06             | Veg. red edge   | 740                     | 20             | \n",
    "| B07             | Veg. red edge   | 783                     | 20             |\n",
    "| B08             | NIR             | 842                     | 10             | \n",
    "| B8A             | Veg. red edge   | 865                     | 20             | \n",
    "| B09             | Water vapour    | 945                     | 60             | \n",
    "| B10             | SWIR cirrus     | 1375                    | 60             | \n",
    "| B11             | SWIR            | 1610                    | 20             | \n",
    "| B12             | SWIR            | 2190                    | 20             | "
   ]
  },
  {
   "cell_type": "markdown",
   "id": "364b197d37cd7c53",
   "metadata": {},
   "source": [
    "### Filter Sentinel-2 data by date"
   ]
  },
  {
   "cell_type": "markdown",
   "id": "20087529edd2f3dd",
   "metadata": {},
   "source": [
    "We select the Sentinel-2 ImageCollection ('COPERNICUS/S2_SR_HARMONIZED') provided by GEE and filter the data by selecting a start and an end date. For this demo, we only need one Sentinel-2 image, so we can define the time range to include the desired day. We know that on the 23. August 2024, there were no clouds over the desired study site. This way, we do not have to filter and mask clouds from our Sentinel-2 data additionally.<br>  \n",
    "After filtering, we can print the size of the newly generated ImageCollection. We see that there are over 20'000 images available in the selected time frame! This is because we did not define an area of interest to filter the Sentinel-2 collection, and it returns all images available globally in the time frame we defined with startTime and endTime."
   ]
  },
  {
   "cell_type": "code",
   "execution_count": null,
   "id": "45557387c6533976",
   "metadata": {
    "ExecuteTime": {
     "end_time": "2025-08-12T06:49:38.828001Z",
     "start_time": "2025-08-12T06:49:37.103563Z"
    }
   },
   "outputs": [],
   "source": [
    "# Define the study period\n",
    "startTime = '2024-08-22'\n",
    "endTime = '2024-08-24'\n",
    "\n",
    "# Filter the Sentinel-2 image collection by date\n",
    "S2_images_col = ee.ImageCollection('COPERNICUS/S2_SR_HARMONIZED')\\\n",
    "    .filter(ee.Filter.date(startTime, endTime))\n",
    "\n",
    "# Check how many images are available\n",
    "print('Number of images in study period:', S2_images_col.size().getInfo())"
   ]
  },
  {
   "cell_type": "markdown",
   "id": "dc9ceb07-f11f-4a4c-9663-c8050680cefb",
   "metadata": {},
   "source": [
    "### Define an area of interest"
   ]
  },
  {
   "cell_type": "markdown",
   "id": "53e27198e26a3096",
   "metadata": {},
   "source": [
    "We can define an area of interest (AOI) to further filter the Sentinel-2 ImageCollection. The filtered ImageCollection will then only comprise Sentinel-2 images where the AOI is within the image.<br>\n",
    "There are multiple ways to specify an area of interest:<br>\n",
    "- Define the geometry using coordinates (e.g., 4 corners of a square with the 5th coordinate=first coordinate to close the shape)\n",
    "- Load an already existing shapefile from e.g., QGIS and convert it using geemap.shp_to_ee(shapefile)\n",
    "- Define the geometry in the Map directly using the polygon icon and store it with .user_roi function. E.g., AOI = Map.user_roi"
   ]
  },
  {
   "cell_type": "code",
   "execution_count": null,
   "id": "4022fabb3789a4bf",
   "metadata": {
    "ExecuteTime": {
     "end_time": "2025-08-12T07:01:40.508816Z",
     "start_time": "2025-08-12T07:01:40.499834Z"
    },
    "scrolled": true
   },
   "outputs": [],
   "source": [
    "# Define an area of interest using a set of coordinates as a list\n",
    "AOI = ee.Geometry.Polygon([[9.829207878112806,46.80626536296483],[9.88104961395265,46.80626536296483],[9.88104961395265,46.82638289500436],\n",
    "                           [9.829207878112806,46.82638289500436],[9.829207878112806,46.80626536296483]])"
   ]
  },
  {
   "cell_type": "markdown",
   "id": "7206c8a4-fd04-43fb-8fe6-5296d566dbd8",
   "metadata": {},
   "source": [
    "We can then display the defined AOI polygon in an interactive map using the \"geemap\" package. After initializing the map we can define the visuals of the basemap (the background). Then we can determine the visualization parameters for the polygon (e.g., color, linetype etc.) and use it with \"addLayer\". Note: the interactive map only works with Jupyter Lab or other interactive Python interpreters."
   ]
  },
  {
   "cell_type": "code",
   "execution_count": null,
   "id": "4137080c5b319ecc",
   "metadata": {},
   "outputs": [],
   "source": [
    "# Initialize the map\n",
    "Map = geemap.Map()\n",
    "\n",
    "# Define how the basemap should be displayed\n",
    "Map.set_center(9.85, 46.82, 13) # coordinates and zoom\n",
    "Map.add_basemap('TERRAIN')      # can also be \"SATELLITE\" \n",
    "\n",
    "# Define the visualization parameters for the AOI, such as color (as hex-code)\n",
    "vis_params = {'color': 'FFD700',\n",
    "              'pointSize': 3,\n",
    "              'pointShape': 'circle',\n",
    "              'width': 2,\n",
    "              'lineType': 'solid',\n",
    "              'lineType': 'solid'}\n",
    "\n",
    "# Add the area of interest as a polygon to the map\n",
    "Map.addLayer(AOI, vis_params, 'Area of interest')\n",
    "\n",
    "# Display the map\n",
    "Map"
   ]
  },
  {
   "cell_type": "markdown",
   "id": "c74be106-6989-442f-8d67-5d317f5eb6c8",
   "metadata": {},
   "source": [
    "### Filter Sentinel-2 data by date and area of interest"
   ]
  },
  {
   "cell_type": "markdown",
   "id": "d530a2326a28b908",
   "metadata": {},
   "source": [
    "After filtering the Sentinel-2 ImageCollection by date and area of interest, we are left with only one available image (as we intended) in the ImageCollection. If we increase the time period, more images would be in the Collection. However, there would also be images of the AOI with clouds that we would then need to filter (see for more info: https://developers.google.com/earth-engine/datasets/catalog/GOOGLE_CLOUD_SCORE_PLUS_V1_S2_HARMONIZED)"
   ]
  },
  {
   "cell_type": "code",
   "execution_count": null,
   "id": "1b527f6e7aa03a68",
   "metadata": {
    "ExecuteTime": {
     "end_time": "2025-08-12T07:16:13.059995Z",
     "start_time": "2025-08-12T07:16:12.097535Z"
    }
   },
   "outputs": [],
   "source": [
    "# Filter the Sentinel-2 image collection by date and area\n",
    "\n",
    "# Define the study period\n",
    "startTime = '2024-08-22'\n",
    "endTime = '2024-08-24'\n",
    "\n",
    "# import the Sentinel-2 ImageCollection, filter by date and area\n",
    "S2_images_col_aoi = ee.ImageCollection('COPERNICUS/S2_SR_HARMONIZED')\\\n",
    "    .filter(ee.Filter.date(startTime, endTime))\\\n",
    "    .filter(ee.Filter.bounds(AOI))\n",
    "\n",
    "# Check how many images are available\n",
    "print('Number of images in study period:', S2_images_col_aoi.size().getInfo())"
   ]
  },
  {
   "cell_type": "markdown",
   "id": "70bf2887-4eb1-46d5-a6c0-95c0711f8a67",
   "metadata": {},
   "source": [
    "To display the image, we need to convert the ImageCollection (which is currently only one image) to a unique image. As we only have one Image in the Collection, we can simply select the first image using ImageCollection.first(). If there were multiple images in the Collection, we would need to decide how to reduce our Collection to a single image:\n",
    "- .first(): use the first image in the Collection (earliest in the time range)\n",
    "- reducers such as .median(), .mean() etc.: calculate the e.g., pixel-wise mean value of all available images in the Collection (mean value of all pixels with the same coordinates)\n",
    "- .mosaic(): uses the newest pixel values available"
   ]
  },
  {
   "cell_type": "code",
   "execution_count": null,
   "id": "cda6ddb1-9253-41ee-a6a7-60ee07bd3d40",
   "metadata": {},
   "outputs": [],
   "source": [
    "# We select the first image in our ImageCollection and can have a look at the output\n",
    "S2_image = S2_images_col_aoi.first()\n",
    "S2_image"
   ]
  },
  {
   "cell_type": "markdown",
   "id": "3d2fb07d-d674-4a94-839e-ab7a8f26111f",
   "metadata": {},
   "source": [
    "The \"bands\" list comprises the 13 spectral bands of Sentinel-2 as well as bands used for processing and quality flags. Information about the additional bands can be found here: https://developers.google.com/earth-engine/datasets/catalog/COPERNICUS_S2_SR_HARMONIZED#bands<br>\n",
    "\n",
    "The \"properties/datastrip_id\" indicates the date and time the image was acquired (2024 08 23, 10:15:59 UTC) and which Sentinel-2 satellite was used (S2B) (also visible in \"spacecraft_name\"). The \"granule_id\" tells us that the image is L2A, meaning level 2A data. In this case, Bottom-of-atmosphere (or surface) reflectance data. This means the data was already corrected for the atmosphere (using sen2cor) and geometry. The \"properties\" also give information about the cloud cover, water vapour, etc., used for the atmosphere correction.<br>\n",
    "\n",
    "We can visualize the Sentinel-2 image as true color RGB:"
   ]
  },
  {
   "cell_type": "code",
   "execution_count": null,
   "id": "5561ea5e68dfffe9",
   "metadata": {},
   "outputs": [],
   "source": [
    "# Add the filtered Sentinel-2 image to our map\n",
    "# Initialize the map\n",
    "Map = geemap.Map()\n",
    "\n",
    "# Define how the basemap should be displayed\n",
    "Map.set_center(9.85, 46.82, 9.5)\n",
    "Map.add_basemap('TERRAIN')\n",
    "\n",
    "# Define the visualization parameters for the aoi, such as color (as hex-code)\n",
    "vis_params = {'color': 'FFD700',\n",
    "              'pointSize': 3,\n",
    "              'pointShape': 'circle',\n",
    "              'width': 2,\n",
    "              'lineType': 'solid',\n",
    "              'lineType': 'solid'}\n",
    "\n",
    "# Add the Sentinel-2 image as true color RGB\n",
    "Map.addLayer(S2_image, {'bands': ['B4', 'B3', 'B2'], 'min': 0, 'max': 2500, 'gamma': 1.1},'Sentinel-2 image')\n",
    "\n",
    "# Add the area of interest as polygon to the map\n",
    "Map.addLayer(AOI, vis_params, 'Area of interest')\n",
    "\n",
    "# Display the map\n",
    "Map"
   ]
  },
  {
   "cell_type": "markdown",
   "id": "874cfaef-eed2-48ce-9d9e-5d30c9e9c1ad",
   "metadata": {},
   "source": [
    "In the displayed map, we can see how big the extent of one Sentinel-2 image (also named \"tile\") is. The filters we used above searched through the Sentinel-2 Collection and output the one tile that our desired area of interest is incorporated in. As we are only interested in the data within our AOI, we can clip this area and discard all the data around it. This will save a lot of computational time and storage if we decide to download the data in the end. All the information of the \"bands\" and \"properties\" will stay the same as they are valid for the whole Sentinel-2 tile."
   ]
  },
  {
   "cell_type": "code",
   "execution_count": null,
   "id": "84730517-2c59-45e4-9410-20a448a3ad25",
   "metadata": {
    "scrolled": true
   },
   "outputs": [],
   "source": [
    "# Clip the desired area\n",
    "clippedImage = S2_image.clip(AOI);\n",
    "clippedImage"
   ]
  },
  {
   "cell_type": "markdown",
   "id": "20b87cb7-eac9-44cf-b693-705cfc026fa5",
   "metadata": {},
   "source": [
    "This clipped image can also be visualized the same way as the whole Sentinel-2 tile. We will use this clipped image for further analysis."
   ]
  },
  {
   "cell_type": "code",
   "execution_count": null,
   "id": "68344aea-f715-45e4-b8c6-07338a1b5b75",
   "metadata": {},
   "outputs": [],
   "source": [
    "# Add the filtered Sentinel-2 image to our map\n",
    "# Initialize the map\n",
    "Map = geemap.Map()\n",
    "\n",
    "# Define how the basemap should be displayed\n",
    "Map.set_center(9.85, 46.82, 13)\n",
    "Map.add_basemap('TERRAIN')\n",
    "\n",
    "# Add the clipped Sentinel-2 image as true color RGB\n",
    "Map.addLayer(clippedImage, {'bands': ['B4', 'B3', 'B2'], 'min': 0, 'max': 2500, 'gamma': 1.1},'Sentinel-2 image clipped')\n",
    "\n",
    "# Display the map\n",
    "Map"
   ]
  },
  {
   "cell_type": "markdown",
   "id": "1a0f01a4-1612-4d61-be42-267457a1e36d",
   "metadata": {},
   "source": [
    "---"
   ]
  },
  {
   "cell_type": "markdown",
   "id": "0fca4cdd-c56f-4033-a097-059783fca77e",
   "metadata": {},
   "source": [
    "## Image Analysis using Spectral Indices"
   ]
  },
  {
   "cell_type": "markdown",
   "id": "26d4b196-17be-432a-b6fe-bedab84ee4f3",
   "metadata": {},
   "source": [
    "By combining bands from different parts of the spectrum, in so-called spectral indices, information about the Earth surface, such as vegetation greenness and canopy water content, can be derived$^{[2]}$. This method relays on the fact that the desired phenomena to observe has a different effect on different parts of the spectrum. Using normalized difference indices we use an affected spectral band and a not affected one as reference to detect the desired phenomena (e.g., canopy water content)."
   ]
  },
  {
   "cell_type": "markdown",
   "id": "bde95a9f-829d-4249-ac94-6798133fb8c8",
   "metadata": {},
   "source": [
    "**Normalized difference vegetation index - NDVI**<br>\n",
    "The normalized difference vegetation index (NDVI) was developed by Tucker et al. in 1970tes and is widely used to estimate the green vegetation$^{[3]}$. The index normalizes green leaf scattering in NIR with chlorophyll absorption in red wavelengths and uses the following formula$^{[4]}$:<br>\n",
    "\n",
    "$NDVI := \\frac {NIR - red}{NIR + red} = \\frac {B08 - B04}{B08 + B04}$ <br>\n",
    "\n",
    "The NDVI is defined to have a value range of -1 to 1. Negative values correspond to water bodies (see lake surface), values close to 0 correspond to no-vegetation areas such as rock, snow, and urban. With increasing NDVI values the proportion of green vegetation also increases$^{[4, 5]}$."
   ]
  },
  {
   "cell_type": "code",
   "execution_count": null,
   "id": "c9aba82d-16ac-4b9f-b3ac-a45d4f269fdb",
   "metadata": {},
   "outputs": [],
   "source": [
    "# Define a function to add the NDVI as a new band\n",
    "def calcNDVI(image):\n",
    "    return image.addBands(image.normalizedDifference(['B8', 'B4']).rename('NDVI'))"
   ]
  },
  {
   "cell_type": "markdown",
   "id": "23b00360-3a40-4fe4-84ff-9bab664f1437",
   "metadata": {},
   "source": [
    "**Normalized difference moisture index - NDMI**<br>\n",
    "The normalized difference moisture index (NDMI) was developed by Gao et al. in the 1990is and is used to estimate the vegetation water content or moisture$^{[6]}$ and is widely used for drought monitoring. The index used the different absorption features of water in leaves in the NIR and SWIR part of the spectrum$^{[7]}$.\n",
    "It is calculated using bands in the NIR (B08) and SWIR (B11) region of the spectrum $^{[8]}$:<br>\n",
    "\n",
    "$NDMI := \\frac {NIR - SWIR}{NIR + SWIR} = \\frac {B08 - B11}{B08 + B11}$ <br>\n",
    "\n",
    "NDMI values below 0 can indicate water stress (if vegetation is present), values above 0.4 indicate no water stress in the vegetation$^{[9]}$. The highest NDMI values in our image can be found in the forest where we have a lot of vegetation to store water in the canopy. The lake surface has a value of -1 indicating a non-vegetation surface. This is a bit counter-intuitive as we would expect a moisture or water index to be high over a large water body. To detect open water bodies we need to use a different water index.<br>\n",
    "\n",
    "Note: NDWI index is often used synonymously with the NDMI index, often using NIR-SWIR combination as one of the two options. Gao$^{[6]}$ also called the index NDWI. NDMI seems to be consistently described using NIR-SWIR combination. As the indices with these two combinations work very differently, with NIR-SWIR highlighting differences in water content of leaves, and GREEN-NIR highlighting differences in water content of water bodies, we have decided to separate the indices on our repository as NDMI using NIR-SWIR, and NDWI using GREEN-NIR$^{[8]}$ (quote from Sentinel-Hub)."
   ]
  },
  {
   "cell_type": "code",
   "execution_count": null,
   "id": "6c9e2316-15f2-4afd-a5d4-2e8cc2ce7224",
   "metadata": {},
   "outputs": [],
   "source": [
    "# Define a function to add the NDMI as a new band\n",
    "def calcNDMI(image):\n",
    "    return image.addBands(image.normalizedDifference(['B8', 'B11']).rename('NDMI'))"
   ]
  },
  {
   "cell_type": "markdown",
   "id": "df60a078-3b5a-4f63-8ca6-2a5703cfaa7f",
   "metadata": {},
   "source": [
    "**Normalized difference water index (NDWI)**<br>\n",
    "During the same time as Gao et al. developed their NDMI, McFeeters developed the normalized difference water index (NDWI) to detect water bodies $^{[10]}$. Water bodies absorb a lot of light in the visible domain (they appear dark), therefore the index uses the band combination of green and NIR $^{[11]}$:<br>\n",
    "\n",
    "$NDWI := \\frac {green - SWIR}{green + SWIR} = \\frac {B03 - B08}{B03 + B08}$ <br> \n",
    "\n",
    "NDWI values above 0 indicate potential water bodies or flooding. The lake and river are clearly visible. However, some of the urban area has also high values. This is due to the sensitivity of the index to build structure as well as water$^{[12]}$.<br>\n",
    "\n",
    "This example nicely illustrate that we need to think about the limitations of the used method in interpreting the calculated index images!"
   ]
  },
  {
   "cell_type": "code",
   "execution_count": null,
   "id": "7e2f2ed2-32a7-49ae-af73-39ac54cd7fcb",
   "metadata": {},
   "outputs": [],
   "source": [
    "# Define a function to add the NDWI as a new band\n",
    "def calcNDWI(image):\n",
    "    return image.addBands(image.normalizedDifference(['B3', 'B8']).rename('NDWI'))"
   ]
  },
  {
   "cell_type": "markdown",
   "id": "8566d841-2791-4345-bff6-74d922e92753",
   "metadata": {},
   "source": [
    "We now use all the index functions from above in one step using \"nested functions\". In the \"bands\" list, three new bands with the indices appeared."
   ]
  },
  {
   "cell_type": "code",
   "execution_count": null,
   "id": "b1e18c28-cecc-4503-85cc-1280fd7f705a",
   "metadata": {
    "scrolled": true
   },
   "outputs": [],
   "source": [
    "# Use the defined functions to add the indices as new layers to the Sentinel-2 image\n",
    "S2_new = calcNDWI(calcNDMI(calcNDVI(clippedImage)))\n",
    "S2_new"
   ]
  },
  {
   "cell_type": "markdown",
   "id": "1542db4e-e731-46b3-9078-cc18042a344b",
   "metadata": {},
   "source": [
    "To visualize the index values as a colormap, we need to define the visualization parameters for each (or use the same). In a dictionary (={}), we define the min. and max. values of the indices (adjust for different indices, stretches etc.) as well as some key colors for the palette. Here, we only defined the color for min. and max. value the rest will be automatically interpolated. You could also add more colors in hex code. An overview of the hex colors can be found here: https://en.wikipedia.org/wiki/Web_colors"
   ]
  },
  {
   "cell_type": "code",
   "execution_count": null,
   "id": "402efcee-f47b-47ad-b1ab-ed6ee99b2f4b",
   "metadata": {},
   "outputs": [],
   "source": [
    "# Initialize the map\n",
    "Map = geemap.Map()\n",
    "\n",
    "# Define how the basemap should be displayed\n",
    "Map.set_center(9.85, 46.82, 13)\n",
    "Map.add_basemap('TERRAIN')\n",
    "\n",
    "# NDVI: From grey (low vegetation) to green (high vegetation)\n",
    "ndvi_vis = {\n",
    "    'min': -1,\n",
    "    'max': 1,\n",
    "    'palette': ['C0C0C0', '008000'],\n",
    "}\n",
    "\n",
    "# NDMI: From yellow (low moisture) to blue (high moisture)\n",
    "ndmi_vis = {\n",
    "    'min': -1,\n",
    "    'max': 1,\n",
    "    'palette': ['FFFF00', '0000FF'],\n",
    "}\n",
    "\n",
    "# NDWI: From gray (no water) to blue (water)\n",
    "ndwi_vis = {\n",
    "    'min': -1,\n",
    "    'max': 1,\n",
    "    'palette': ['C0C0C0', '0000FF'],\n",
    "}\n",
    "\n",
    "# Add the Sentinel-2 image\n",
    "Map.addLayer(clippedImage, {'bands': ['B4', 'B3', 'B2'], 'min': 0, 'max': 2500, 'gamma': 1.1}, 'Sentinel-2 image clipped')\n",
    "\n",
    "# Add the indices as layers with their respective visualizations\n",
    "Map.addLayer(S2_new.select('NDVI'), ndvi_vis, 'NDVI')\n",
    "Map.addLayer(S2_new.select('NDMI'), ndmi_vis, 'NDMI')\n",
    "Map.addLayer(S2_new.select('NDWI'), ndwi_vis, 'NDWI')\n",
    "\n",
    "# Display the map\n",
    "Map"
   ]
  },
  {
   "cell_type": "markdown",
   "id": "fd1b8beb-e565-4063-834d-e562c9140b3b",
   "metadata": {},
   "source": [
    "---"
   ]
  },
  {
   "cell_type": "markdown",
   "id": "c1c82817-4634-4762-9731-e1e36517ca26",
   "metadata": {},
   "source": [
    "*Literature*<br>\n",
    "$^{[1]}$: https://en.wikipedia.org/wiki/Sentinel-2<br>\n",
    "$^{[2]}$: https://custom-scripts.sentinel-hub.com/custom-scripts/sentinel/sentinel-2/<br>\n",
    "$^{[3]}$: Tucker, C.J., 1979. Red and photographic infrared linear combinations for monitoring vegetation. Remote Sensing of Environment 8, 127–150.<br>\n",
    "$^{[4]}$: https://custom-scripts.sentinel-hub.com/sentinel-2/ndvi/<br>\n",
    "$^{[5]}$: https://en.wikipedia.org/wiki/Normalized_difference_vegetation_index<br>\n",
    "$^{[6]}$: Gao, B., 1996. NDWI—A normalized difference water index for remote sensing of vegetation liquid water from space. Remote Sens. Environ. 58, 257–266.<br>\n",
    "$^{[7]}$: Colombo, R., Meroni, M., Marchesi, A., Busetto, L., Rossini, M., Giardino, C., Panigada, C., 2008. Estimation of leaf and canopy water content in poplar plantations by means of hyperspectral indices and inverse modeling. Remote Sens. Environ. 112, 1820–1834.<br>\n",
    "$^{[8]}$: https://custom-scripts.sentinel-hub.com/sentinel-2/ndmi/<br>\n",
    "$^{[9]}$: https://eos.com/make-an-analysis/ndmi/<br>\n",
    "$^{[10]}$: McFeeters, S.K., 1996. The use of the Normalized Difference Water Index (NDWI) in the delineation of open water features. Int. J. Remote Sens. 17, 1425–1432.<br>\n",
    "$^{[11]}$: https://custom-scripts.sentinel-hub.com/sentinel-2/ndwi/<br>\n",
    "$^{[12]}$: https://eos.com/make-an-analysis/ndwi/<br>"
   ]
  }
 ],
 "metadata": {
  "kernelspec": {
   "display_name": "Python 3 (ipykernel)",
   "language": "python",
   "name": "python3"
  },
  "language_info": {
   "codemirror_mode": {
    "name": "ipython",
    "version": 3
   },
   "file_extension": ".py",
   "mimetype": "text/x-python",
   "name": "python",
   "nbconvert_exporter": "python",
   "pygments_lexer": "ipython3",
   "version": "3.13.3"
  }
 },
 "nbformat": 4,
 "nbformat_minor": 5
}

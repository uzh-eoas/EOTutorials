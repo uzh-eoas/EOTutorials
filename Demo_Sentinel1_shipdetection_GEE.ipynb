{
 "cells": [
  {
   "cell_type": "markdown",
   "id": "74b66c098f0fbe0",
   "metadata": {},
   "source": [
    "# Sentinel-1 ship detection using Google Earth Engine"
   ]
  },
  {
   "cell_type": "markdown",
   "id": "466acf369d20bf0b",
   "metadata": {},
   "source": [
    "This tutorial uses Sentinel-2 SAR imagery to detect ships in the port of Panama City waiting to use the Panama Canal.\n",
    "\n",
    "It uses the Google Earth Engine (GEE) API package for python. This allows to compute large amount of satellite (and other remote sensing) data without having to download the huge data sets. To be able to use this package a GEE account is required."
   ]
  },
  {
   "cell_type": "markdown",
   "id": "1afc86c5bf9f3ef0",
   "metadata": {},
   "source": [
    "### Start a GEE session"
   ]
  },
  {
   "cell_type": "markdown",
   "id": "3102fa551d107905",
   "metadata": {},
   "source": [
    "The first time the \"ee\" package is used, you need to run ee.Authenticate(). This will open a window on the web where you have to log in with your GEE credentials. This will create an access token that needs to be pasted in the box that appeared below (this needs to be done at the beginning or when the kernel/session is restarted). To start the connection with your GEE account, you run ee.Initialize(). If you have only one project on your GEE account, you do not need to specify more. If you have multiple projects, you can specify with ee.Initialize(project=project-number). To find the project number, you have to log in to GEE online and click on the respective project."
   ]
  },
  {
   "cell_type": "code",
   "execution_count": 2,
   "id": "8e44ef526b357ffd",
   "metadata": {
    "jupyter": {
     "is_executing": true
    }
   },
   "outputs": [],
   "source": [
    "# Load the packages\n",
    "import ee       # GEE API package\n",
    "import geemap   # package for interactive plotting->does not work on PyCharm\n",
    "\n",
    "# Login with the GEE credentials and connect to your account\n",
    "ee.Authenticate()   # needs to be done once in a while\n",
    "ee.Initialize()     # starts the connection to your GEE account and allows you to use all the datasets you might have stored there"
   ]
  },
  {
   "cell_type": "markdown",
   "id": "88bdc7df-b49f-4fe8-9548-7aefbd4babcb",
   "metadata": {},
   "source": [
    "### Select the area of interest"
   ]
  },
  {
   "cell_type": "markdown",
   "id": "7ad338d5-2a3a-4987-b4ce-c3100ae46a34",
   "metadata": {},
   "source": [
    "We select a polygon at the port of Panama City. As we only want to detect the ships and not built up areas we should make sure to only select area in the ocean."
   ]
  },
  {
   "cell_type": "code",
   "execution_count": 3,
   "id": "766c431c-904e-4198-a85a-05df3dcad26f",
   "metadata": {},
   "outputs": [
    {
     "data": {
      "text/html": [
       "\n",
       "            <style>\n",
       "                .geemap-dark {\n",
       "                    --jp-widgets-color: white;\n",
       "                    --jp-widgets-label-color: white;\n",
       "                    --jp-ui-font-color1: white;\n",
       "                    --jp-layout-color2: #454545;\n",
       "                    background-color: #383838;\n",
       "                }\n",
       "\n",
       "                .geemap-dark .jupyter-button {\n",
       "                    --jp-layout-color3: #383838;\n",
       "                }\n",
       "\n",
       "                .geemap-colab {\n",
       "                    background-color: var(--colab-primary-surface-color, white);\n",
       "                }\n",
       "\n",
       "                .geemap-colab .jupyter-button {\n",
       "                    --jp-layout-color3: var(--colab-primary-surface-color, white);\n",
       "                }\n",
       "            </style>\n",
       "            "
      ],
      "text/plain": [
       "<IPython.core.display.HTML object>"
      ]
     },
     "metadata": {},
     "output_type": "display_data"
    }
   ],
   "source": [
    "# Area of interest polygon at the port in Panama City\n",
    "AOI = ee.Geometry.Polygon([[-79.5318588873829,8.929408571356298],[-79.57855078191415,8.87378180348808],\n",
    "                           [-79.67330786199227,8.839180410557434],[-79.69734045476571,8.784218582482216],\n",
    "                           [-79.56893774480477,8.701421206774654],[-79.37155075269101,8.7502874576597],\n",
    "                           [-79.36262436108944,8.833073944690653],[-79.39077682690976,8.913128442052326],\n",
    "                           [-79.49034042554257,8.957897048024819],[-79.52055282788632,8.943653088344814],\n",
    "                           [-79.5318588873829,8.929408571356298]])"
   ]
  },
  {
   "cell_type": "markdown",
   "id": "5f88eb78-7930-4789-bbde-1b818e969398",
   "metadata": {},
   "source": [
    "Let's visualize the general area of interest at the entry to the Panama Canal (as a true color optical satellite image) and the polygone we just defined in yellow. You will notice that there are some small islands within the selected AOI (this will have an influence later on)."
   ]
  },
  {
   "cell_type": "code",
   "execution_count": 4,
   "id": "c2254bc8-9ecd-431c-8b2f-e40f1b6b0049",
   "metadata": {},
   "outputs": [
    {
     "data": {
      "text/html": [
       "\n",
       "            <style>\n",
       "                .geemap-dark {\n",
       "                    --jp-widgets-color: white;\n",
       "                    --jp-widgets-label-color: white;\n",
       "                    --jp-ui-font-color1: white;\n",
       "                    --jp-layout-color2: #454545;\n",
       "                    background-color: #383838;\n",
       "                }\n",
       "\n",
       "                .geemap-dark .jupyter-button {\n",
       "                    --jp-layout-color3: #383838;\n",
       "                }\n",
       "\n",
       "                .geemap-colab {\n",
       "                    background-color: var(--colab-primary-surface-color, white);\n",
       "                }\n",
       "\n",
       "                .geemap-colab .jupyter-button {\n",
       "                    --jp-layout-color3: var(--colab-primary-surface-color, white);\n",
       "                }\n",
       "            </style>\n",
       "            "
      ],
      "text/plain": [
       "<IPython.core.display.HTML object>"
      ]
     },
     "metadata": {},
     "output_type": "display_data"
    },
    {
     "data": {
      "application/vnd.jupyter.widget-view+json": {
       "model_id": "8d63451188bb4090a26c7875bac9abbb",
       "version_major": 2,
       "version_minor": 0
      },
      "text/plain": [
       "Map(center=[8.897607, -79.529382], controls=(WidgetControl(options=['position', 'transparent_bg'], widget=Sear…"
      ]
     },
     "execution_count": 4,
     "metadata": {},
     "output_type": "execute_result"
    }
   ],
   "source": [
    "# Initialize the map\n",
    "Map = geemap.Map()\n",
    "\n",
    "# Define how the basemap should be displayed\n",
    "Map.set_center(-79.529382, 8.897607, 11) # coordinates and zoom\n",
    "Map.add_basemap('SATELLITE')             # background map as optical true color image\n",
    "\n",
    "# Define the visualization parameters for the AOI, such as color (as hex-code)\n",
    "vis_params = {'color': 'FFD700',\n",
    "              'pointSize': 3,\n",
    "              'pointShape': 'circle',\n",
    "              'width': 2,\n",
    "              'lineType': 'solid',\n",
    "              'lineType': 'solid'}\n",
    "\n",
    "# Add the area of interest as a polygon to the map\n",
    "Map.addLayer(AOI, vis_params, 'Area of interest')\n",
    "\n",
    "# Display the map\n",
    "Map"
   ]
  },
  {
   "cell_type": "markdown",
   "id": "4dfeb7c2-876c-4cb8-b7dc-784cf201944a",
   "metadata": {},
   "source": [
    "---"
   ]
  },
  {
   "cell_type": "markdown",
   "id": "0554ac0e-223e-4231-81fb-f9f5eca217d2",
   "metadata": {},
   "source": [
    "### Select the data"
   ]
  },
  {
   "cell_type": "markdown",
   "id": "2d907a7f-cc8f-4142-9069-bd3703234270",
   "metadata": {},
   "source": [
    "During the second half of 2023, the Panama Canal area had historically low rainfall. Due to the drought, the water level in the Canal was a lot lower and fewer ships could pass. Therefore, many ships had to wait in front of the entry in Panama City$^{[1]}$. This makes this event a good use case to detect many ships in one image. \n",
    "- We select August 2023 as our study period<br>\n",
    "- We load the Sentinel-1 SAR ImageCollection \"S1_GRD\"<br>\n",
    "- We filter to use the VV polarization band. In the polarization mode, the ships act as strong reflectors of the signal (white in the image) while the flat surface of the water acts as a mirror, reflecting the signal away from the sensor (black in the image).<br> \n",
    "- We use the Interferometric Wide (IW) swath mode, which is the primary mode from Sentinel-1. Due to the wide swath, it is well suited to monitor large areas.<br>\n",
    "- Then we filter by the dates we defined and the AOI polygon"
   ]
  },
  {
   "cell_type": "code",
   "execution_count": 11,
   "id": "6c7d2956-1c56-4a42-b3fa-725d28ca1cb3",
   "metadata": {},
   "outputs": [
    {
     "data": {
      "text/html": [
       "\n",
       "            <style>\n",
       "                .geemap-dark {\n",
       "                    --jp-widgets-color: white;\n",
       "                    --jp-widgets-label-color: white;\n",
       "                    --jp-ui-font-color1: white;\n",
       "                    --jp-layout-color2: #454545;\n",
       "                    background-color: #383838;\n",
       "                }\n",
       "\n",
       "                .geemap-dark .jupyter-button {\n",
       "                    --jp-layout-color3: #383838;\n",
       "                }\n",
       "\n",
       "                .geemap-colab {\n",
       "                    background-color: var(--colab-primary-surface-color, white);\n",
       "                }\n",
       "\n",
       "                .geemap-colab .jupyter-button {\n",
       "                    --jp-layout-color3: var(--colab-primary-surface-color, white);\n",
       "                }\n",
       "            </style>\n",
       "            "
      ],
      "text/plain": [
       "<IPython.core.display.HTML object>"
      ]
     },
     "metadata": {},
     "output_type": "display_data"
    },
    {
     "name": "stdout",
     "output_type": "stream",
     "text": [
      "Number of images in study period: 4\n"
     ]
    }
   ],
   "source": [
    "# Define study period\n",
    "startTime = '2023-08-01'\n",
    "endTime = '2023-08-31'\n",
    "\n",
    "# Filter the Sentinel-1 ImageCollection by polarisation, instrument mode, date, and area of interest\n",
    "S1_data = ee.ImageCollection('COPERNICUS/S1_GRD')\\\n",
    "    .filter(ee.Filter.listContains('transmitterReceiverPolarisation', 'VV'))\\\n",
    "    .filter(ee.Filter.eq('instrumentMode', 'IW'))\\\n",
    "    .filter(ee.Filter.date(startTime, endTime))\\\n",
    "    .filter(ee.Filter.bounds(AOI))\n",
    "\n",
    "# Display the number of images available with our filter criteria\n",
    "print('Number of images in study period:', S1_data.size().getInfo())"
   ]
  },
  {
   "cell_type": "markdown",
   "id": "3f546986-0199-4505-9be6-5ae1cb64fda0",
   "metadata": {},
   "source": [
    "Inspecting the filtered ImageCollection we see that 4 images are available with our fitler specifications on two different days. One image in the morning and one in the evening. As Sentinel-1 is an active satellite it does not rely on the sunight and can also map the Earth in the dark/with clouds etc.  "
   ]
  },
  {
   "cell_type": "code",
   "execution_count": 12,
   "id": "01d9312e-cbc0-4cd8-92b2-fe957a41c604",
   "metadata": {},
   "outputs": [
    {
     "data": {
      "text/html": [
       "\n",
       "            <style>\n",
       "                .geemap-dark {\n",
       "                    --jp-widgets-color: white;\n",
       "                    --jp-widgets-label-color: white;\n",
       "                    --jp-ui-font-color1: white;\n",
       "                    --jp-layout-color2: #454545;\n",
       "                    background-color: #383838;\n",
       "                }\n",
       "\n",
       "                .geemap-dark .jupyter-button {\n",
       "                    --jp-layout-color3: #383838;\n",
       "                }\n",
       "\n",
       "                .geemap-colab {\n",
       "                    background-color: var(--colab-primary-surface-color, white);\n",
       "                }\n",
       "\n",
       "                .geemap-colab .jupyter-button {\n",
       "                    --jp-layout-color3: var(--colab-primary-surface-color, white);\n",
       "                }\n",
       "            </style>\n",
       "            "
      ],
      "text/plain": [
       "<IPython.core.display.HTML object>"
      ]
     },
     "metadata": {},
     "output_type": "display_data"
    },
    {
     "data": {
      "text/html": [
       "<div><style>:root {\n",
       "  --font-color-primary: var(--jp-content-font-color0, rgba(0, 0, 0, 1));\n",
       "  --font-color-secondary: var(--jp-content-font-color2, rgba(0, 0, 0, 0.7));\n",
       "  --font-color-accent: rgba(123, 31, 162, 1);\n",
       "  --border-color: var(--jp-border-color2, #e0e0e0);\n",
       "  --background-color: var(--jp-layout-color0, white);\n",
       "  --background-color-row-even: var(--jp-layout-color1, white);\n",
       "  --background-color-row-odd: var(--jp-layout-color2, #eeeeee);\n",
       "}\n",
       "\n",
       "html[theme=\"dark\"],\n",
       "body[data-theme=\"dark\"],\n",
       "body.vscode-dark {\n",
       "  --font-color-primary: rgba(255, 255, 255, 1);\n",
       "  --font-color-secondary: rgba(255, 255, 255, 0.7);\n",
       "  --font-color-accent: rgb(173, 132, 190);\n",
       "  --border-color: #2e2e2e;\n",
       "  --background-color: #111111;\n",
       "  --background-color-row-even: #111111;\n",
       "  --background-color-row-odd: #313131;\n",
       "}\n",
       "\n",
       ".eerepr {\n",
       "  padding: 1em;\n",
       "  line-height: 1.5em;\n",
       "  min-width: 300px;\n",
       "  max-width: 1200px;\n",
       "  overflow-y: scroll;\n",
       "  max-height: 600px;\n",
       "  border: 1px solid var(--border-color);\n",
       "  font-family: monospace;\n",
       "  font-size: 14px;\n",
       "}\n",
       "\n",
       ".eerepr li {\n",
       "  list-style-type: none;\n",
       "  margin: 0;\n",
       "}\n",
       "\n",
       ".eerepr ul {\n",
       "  padding-left: 1.5em !important;\n",
       "  margin: 0;\n",
       "}\n",
       "\n",
       ".eerepr > ul {\n",
       "  padding-left: 0 !important;\n",
       "}\n",
       "\n",
       ".eerepr summary {\n",
       "  color: var(--font-color-secondary);\n",
       "  cursor: pointer;\n",
       "  margin: 0;\n",
       "}\n",
       "\n",
       ".eerepr summary:hover {\n",
       "  color: var(--font-color-primary);\n",
       "  background-color: var(--background-color-row-odd)\n",
       "}\n",
       "\n",
       ".ee-k {\n",
       "  color: var(--font-color-accent);\n",
       "  margin-right: 6px;\n",
       "}\n",
       "\n",
       ".ee-v {\n",
       "  color: var(--font-color-primary);\n",
       "}\n",
       "\n",
       ".eerepr details > summary::before {\n",
       "  content: '▼';\n",
       "  display: inline-block;\n",
       "  margin-right: 6px;\n",
       "  transition: transform 0.2s;\n",
       "  transform: rotate(-90deg);\n",
       "}\n",
       "\n",
       ".eerepr details[open] > summary::before {\n",
       "  transform: rotate(0deg);\n",
       "}\n",
       "\n",
       ".eerepr details summary::-webkit-details-marker {\n",
       "  display:none;\n",
       "}\n",
       "\n",
       ".eerepr details summary {\n",
       "  list-style-type: none;\n",
       "}\n",
       "</style><div class='eerepr'><ul><li><details><summary>ImageCollection COPERNICUS/S1_GRD  (4 elements)</summary><ul><li><span class='ee-k'>type:</span><span class='ee-v'>ImageCollection</span></li><li><span class='ee-k'>id:</span><span class='ee-v'>COPERNICUS/S1_GRD</span></li><li><span class='ee-k'>version:</span><span class='ee-v'>1756794121779697</span></li><li><details><summary>bands: []</summary><ul></ul></details></li><li><details><summary>features: List (4 elements)</summary><ul><li><details><summary>0: Image COPERNICUS/S1_GRD/S1A_IW_GRDH_1SDV_20231107T110652_20231107T110721_051110_0629EC_2903 (3 bands)</summary><ul><li><span class='ee-k'>type:</span><span class='ee-v'>Image</span></li><li><span class='ee-k'>id:</span><span class='ee-v'>COPERNICUS/S1_GRD/S1A_IW_GRDH_1SDV_20231107T110652_20231107T110721_051110_0629EC_2903</span></li><li><span class='ee-k'>version:</span><span class='ee-v'>1756794121779697</span></li><li><details><summary>bands: List (3 elements)</summary><ul><li><details><summary>0: \"VV\", double, EPSG:32617, 28745x24476 px</summary><ul><li><span class='ee-k'>id:</span><span class='ee-v'>VV</span></li><li><span class='ee-k'>crs:</span><span class='ee-v'>EPSG:32617</span></li><li><details><summary>crs_transform: List (6 elements)</summary><ul><li><span class='ee-k'>0:</span><span class='ee-v'>10</span></li><li><span class='ee-k'>1:</span><span class='ee-v'>0</span></li><li><span class='ee-k'>2:</span><span class='ee-v'>507697.8896995241</span></li><li><span class='ee-k'>3:</span><span class='ee-v'>0</span></li><li><span class='ee-k'>4:</span><span class='ee-v'>-10</span></li><li><span class='ee-k'>5:</span><span class='ee-v'>1138088.5436519252</span></li></ul></details></li><li><details><summary>data_type: double</summary><ul><li><span class='ee-k'>type:</span><span class='ee-v'>PixelType</span></li><li><span class='ee-k'>precision:</span><span class='ee-v'>double</span></li></ul></details></li><li><details><summary>dimensions: [28745, 24476]</summary><ul><li><span class='ee-k'>0:</span><span class='ee-v'>28745</span></li><li><span class='ee-k'>1:</span><span class='ee-v'>24476</span></li></ul></details></li></ul></details></li><li><details><summary>1: \"VH\", double, EPSG:32617, 28745x24476 px</summary><ul><li><span class='ee-k'>id:</span><span class='ee-v'>VH</span></li><li><span class='ee-k'>crs:</span><span class='ee-v'>EPSG:32617</span></li><li><details><summary>crs_transform: List (6 elements)</summary><ul><li><span class='ee-k'>0:</span><span class='ee-v'>10</span></li><li><span class='ee-k'>1:</span><span class='ee-v'>0</span></li><li><span class='ee-k'>2:</span><span class='ee-v'>507697.8896995241</span></li><li><span class='ee-k'>3:</span><span class='ee-v'>0</span></li><li><span class='ee-k'>4:</span><span class='ee-v'>-10</span></li><li><span class='ee-k'>5:</span><span class='ee-v'>1138088.5436519252</span></li></ul></details></li><li><details><summary>data_type: double</summary><ul><li><span class='ee-k'>type:</span><span class='ee-v'>PixelType</span></li><li><span class='ee-k'>precision:</span><span class='ee-v'>double</span></li></ul></details></li><li><details><summary>dimensions: [28745, 24476]</summary><ul><li><span class='ee-k'>0:</span><span class='ee-v'>28745</span></li><li><span class='ee-k'>1:</span><span class='ee-v'>24476</span></li></ul></details></li></ul></details></li><li><details><summary>2: \"angle\", float, EPSG:32617, 21x11 px</summary><ul><li><span class='ee-k'>id:</span><span class='ee-v'>angle</span></li><li><span class='ee-k'>crs:</span><span class='ee-v'>EPSG:32617</span></li><li><details><summary>crs_transform: List (6 elements)</summary><ul><li><span class='ee-k'>0:</span><span class='ee-v'>-12343.38576837955</span></li><li><span class='ee-k'>1:</span><span class='ee-v'>-3934.5867864876054</span></li><li><span class='ee-k'>2:</span><span class='ee-v'>793739.8590674144</span></li><li><span class='ee-k'>3:</span><span class='ee-v'>2417.39484017645</span></li><li><span class='ee-k'>4:</span><span class='ee-v'>-20125.00311353593</span></li><li><span class='ee-k'>5:</span><span class='ee-v'>1088619.4945852049</span></li></ul></details></li><li><details><summary>data_type: float</summary><ul><li><span class='ee-k'>type:</span><span class='ee-v'>PixelType</span></li><li><span class='ee-k'>precision:</span><span class='ee-v'>float</span></li></ul></details></li><li><details><summary>dimensions: [21, 11]</summary><ul><li><span class='ee-k'>0:</span><span class='ee-v'>21</span></li><li><span class='ee-k'>1:</span><span class='ee-v'>11</span></li></ul></details></li></ul></details></li></ul></details></li><li><details><summary>properties: Object (56 properties)</summary><ul><li><span class='ee-k'>GRD_Post_Processing_facility_country:</span><span class='ee-v'>Italy</span></li><li><span class='ee-k'>GRD_Post_Processing_facility_name:</span><span class='ee-v'>Copernicus Ground Segment</span></li><li><span class='ee-k'>GRD_Post_Processing_facility_org:</span><span class='ee-v'>ESA</span></li><li><span class='ee-k'>GRD_Post_Processing_facility_site:</span><span class='ee-v'>Production Service-SERCO</span></li><li><span class='ee-k'>GRD_Post_Processing_software_name:</span><span class='ee-v'>Sentinel-1 IPF</span></li><li><span class='ee-k'>GRD_Post_Processing_software_version:</span><span class='ee-v'>003.71</span></li><li><span class='ee-k'>GRD_Post_Processing_start:</span><span class='ee-v'>1699361004336</span></li><li><span class='ee-k'>GRD_Post_Processing_stop:</span><span class='ee-v'>1699361594000</span></li><li><span class='ee-k'>S1TBX_Calibration_vers:</span><span class='ee-v'>9.0.0</span></li><li><span class='ee-k'>S1TBX_IO_Orbit_Ephemeris_vers:</span><span class='ee-v'>9.0.0</span></li><li><span class='ee-k'>S1TBX_SAR_Processing_vers:</span><span class='ee-v'>9.0.0</span></li><li><span class='ee-k'>SLC_Processing_facility_country:</span><span class='ee-v'>Italy</span></li><li><span class='ee-k'>SLC_Processing_facility_name:</span><span class='ee-v'>Copernicus Ground Segment</span></li><li><span class='ee-k'>SLC_Processing_facility_org:</span><span class='ee-v'>ESA</span></li><li><span class='ee-k'>SLC_Processing_facility_site:</span><span class='ee-v'>Production Service-SERCO</span></li><li><span class='ee-k'>SLC_Processing_software_name:</span><span class='ee-v'>Sentinel-1 IPF</span></li><li><span class='ee-k'>SLC_Processing_software_version:</span><span class='ee-v'>003.71</span></li><li><span class='ee-k'>SLC_Processing_start:</span><span class='ee-v'>1699361187000</span></li><li><span class='ee-k'>SLC_Processing_stop:</span><span class='ee-v'>1699361486000</span></li><li><span class='ee-k'>SNAP_Graph_Processing_Framework_GPF_vers:</span><span class='ee-v'>9.0.0</span></li><li><span class='ee-k'>cycleNumber:</span><span class='ee-v'>306</span></li><li><span class='ee-k'>familyName:</span><span class='ee-v'>SENTINEL-1</span></li><li><span class='ee-k'>instrument:</span><span class='ee-v'>Synthetic Aperture Radar</span></li><li><span class='ee-k'>instrumentConfigurationID:</span><span class='ee-v'>7</span></li><li><span class='ee-k'>instrumentMode:</span><span class='ee-v'>IW</span></li><li><span class='ee-k'>instrumentSwath:</span><span class='ee-v'>IW</span></li><li><span class='ee-k'>missionDataTakeID:</span><span class='ee-v'>403948</span></li><li><span class='ee-k'>nssdcIdentifier:</span><span class='ee-v'>2014-016A</span></li><li><span class='ee-k'>orbitNumber_start:</span><span class='ee-v'>51110</span></li><li><span class='ee-k'>orbitNumber_stop:</span><span class='ee-v'>51110</span></li><li><span class='ee-k'>orbitProperties_ascendingNodeTime:</span><span class='ee-v'>1699352405884</span></li><li><span class='ee-k'>orbitProperties_pass:</span><span class='ee-v'>DESCENDING</span></li><li><span class='ee-k'>phaseIdentifier:</span><span class='ee-v'>1</span></li><li><span class='ee-k'>platformHeading:</span><span class='ee-v'>-167.9949094808813</span></li><li><span class='ee-k'>platform_number:</span><span class='ee-v'>A</span></li><li><span class='ee-k'>productClass:</span><span class='ee-v'>S</span></li><li><span class='ee-k'>productClassDescription:</span><span class='ee-v'>SAR Standard L1 Product</span></li><li><span class='ee-k'>productComposition:</span><span class='ee-v'>Slice</span></li><li><span class='ee-k'>productTimelinessCategory:</span><span class='ee-v'>Fast-24h</span></li><li><span class='ee-k'>productType:</span><span class='ee-v'>GRD</span></li><li><span class='ee-k'>relativeOrbitNumber_start:</span><span class='ee-v'>113</span></li><li><span class='ee-k'>relativeOrbitNumber_stop:</span><span class='ee-v'>113</span></li><li><span class='ee-k'>resolution:</span><span class='ee-v'>H</span></li><li><span class='ee-k'>resolution_meters:</span><span class='ee-v'>10</span></li><li><span class='ee-k'>segmentStartTime:</span><span class='ee-v'>1699355212794</span></li><li><span class='ee-k'>sliceNumber:</span><span class='ee-v'>1</span></li><li><span class='ee-k'>sliceProductFlag:</span><span class='ee-v'>true</span></li><li><span class='ee-k'>startTimeANX:</span><span class='ee-v'>2806582</span></li><li><span class='ee-k'>stopTimeANX:</span><span class='ee-v'>2835610</span></li><li><span class='ee-k'>system:asset_size:</span><span class='ee-v'>4565243467</span></li><li><details><summary>system:footprint: LinearRing (22 vertices)</summary><ul><li><span class='ee-k'>type:</span><span class='ee-v'>LinearRing</span></li><li><details><summary>coordinates: List (22 elements)</summary><ul><li><details><summary>0: [-78.36022549055724, 9.651551066928661]</summary><ul><li><span class='ee-k'>0:</span><span class='ee-v'>-78.36022549055724</span></li><li><span class='ee-k'>1:</span><span class='ee-v'>9.651551066928661</span></li></ul></details></li><li><details><summary>1: [-78.34403502786941, 9.730306522653763]</summary><ul><li><span class='ee-k'>0:</span><span class='ee-v'>-78.34403502786941</span></li><li><span class='ee-k'>1:</span><span class='ee-v'>9.730306522653763</span></li></ul></details></li><li><details><summary>2: [-78.32222408075509, 9.836422529240112]</summary><ul><li><span class='ee-k'>0:</span><span class='ee-v'>-78.32222408075509</span></li><li><span class='ee-k'>1:</span><span class='ee-v'>9.836422529240112</span></li></ul></details></li><li><details><summary>3: [-78.5250621209633, 9.877434170843552]</summary><ul><li><span class='ee-k'>0:</span><span class='ee-v'>-78.5250621209633</span></li><li><span class='ee-k'>1:</span><span class='ee-v'>9.877434170843552</span></li></ul></details></li><li><details><summary>4: [-79.08533226196036, 9.990013957416469]</summary><ul><li><span class='ee-k'>0:</span><span class='ee-v'>-79.08533226196036</span></li><li><span class='ee-k'>1:</span><span class='ee-v'>9.990013957416469</span></li></ul></details></li><li><details><summary>5: [-79.88633191430678, 10.083465717443383]</summary><ul><li><span class='ee-k'>0:</span><span class='ee-v'>-79.88633191430678</span></li><li><span class='ee-k'>1:</span><span class='ee-v'>10.083465717443383</span></li></ul></details></li><li><details><summary>6: [-80.59276494616462, 10.162471207027064]</summary><ul><li><span class='ee-k'>0:</span><span class='ee-v'>-80.59276494616462</span></li><li><span class='ee-k'>1:</span><span class='ee-v'>10.162471207027064</span></li></ul></details></li><li><details><summary>7: [-80.75470330585219, 9.377664263953513]</summary><ul><li><span class='ee-k'>0:</span><span class='ee-v'>-80.75470330585219</span></li><li><span class='ee-k'>1:</span><span class='ee-v'>9.377664263953513</span></li></ul></details></li><li><details><summary>8: [-80.91568017602846, 8.593664232475668]</summary><ul><li><span class='ee-k'>0:</span><span class='ee-v'>-80.91568017602846</span></li><li><span class='ee-k'>1:</span><span class='ee-v'>8.593664232475668</span></li></ul></details></li><li><details><summary>9: [-80.92523538725274, 8.53612930044314]</summary><ul><li><span class='ee-k'>0:</span><span class='ee-v'>-80.92523538725274</span></li><li><span class='ee-k'>1:</span><span class='ee-v'>8.53612930044314</span></li></ul></details></li><li><details><summary>10: [-80.92523580914319, 8.53430212650496]</summary><ul><li><span class='ee-k'>0:</span><span class='ee-v'>-80.92523580914319</span></li><li><span class='ee-k'>1:</span><span class='ee-v'>8.53430212650496</span></li></ul></details></li><li><details><summary>11: [-79.79111699338272, 8.306940611467908]</summary><ul><li><span class='ee-k'>0:</span><span class='ee-v'>-79.79111699338272</span></li><li><span class='ee-k'>1:</span><span class='ee-v'>8.306940611467908</span></li></ul></details></li><li><details><summary>12: [-78.68290881327677, 8.081485705572442]</summary><ul><li><span class='ee-k'>0:</span><span class='ee-v'>-78.68290881327677</span></li><li><span class='ee-k'>1:</span><span class='ee-v'>8.081485705572442</span></li></ul></details></li><li><details><summary>13: [-78.66153794801038, 8.185467576945546]</summary><ul><li><span class='ee-k'>0:</span><span class='ee-v'>-78.66153794801038</span></li><li><span class='ee-k'>1:</span><span class='ee-v'>8.185467576945546</span></li></ul></details></li><li><details><summary>14: [-78.64074015604632, 8.286685355193624]</summary><ul><li><span class='ee-k'>0:</span><span class='ee-v'>-78.64074015604632</span></li><li><span class='ee-k'>1:</span><span class='ee-v'>8.286685355193624</span></li></ul></details></li><li><details><summary>15: [-78.61645167182897, 8.404883019616143]</summary><ul><li><span class='ee-k'>0:</span><span class='ee-v'>-78.61645167182897</span></li><li><span class='ee-k'>1:</span><span class='ee-v'>8.404883019616143</span></li></ul></details></li><li><details><summary>16: [-78.5911844918696, 8.527875445117965]</summary><ul><li><span class='ee-k'>0:</span><span class='ee-v'>-78.5911844918696</span></li><li><span class='ee-k'>1:</span><span class='ee-v'>8.527875445117965</span></li></ul></details></li><li><details><summary>17: [-78.56802370143402, 8.640611929717068]</summary><ul><li><span class='ee-k'>0:</span><span class='ee-v'>-78.56802370143402</span></li><li><span class='ee-k'>1:</span><span class='ee-v'>8.640611929717068</span></li></ul></details></li><li><details><summary>18: [-78.4907056755102, 9.017476420911542]</summary><ul><li><span class='ee-k'>0:</span><span class='ee-v'>-78.4907056755102</span></li><li><span class='ee-k'>1:</span><span class='ee-v'>9.017476420911542</span></li></ul></details></li><li><details><summary>19: [-78.4138184734207, 9.390906096043121]</summary><ul><li><span class='ee-k'>0:</span><span class='ee-v'>-78.4138184734207</span></li><li><span class='ee-k'>1:</span><span class='ee-v'>9.390906096043121</span></li></ul></details></li><li><details><summary>20: [-78.38550496347564, 9.528587103398705]</summary><ul><li><span class='ee-k'>0:</span><span class='ee-v'>-78.38550496347564</span></li><li><span class='ee-k'>1:</span><span class='ee-v'>9.528587103398705</span></li></ul></details></li><li><details><summary>21: [-78.36022549055724, 9.651551066928661]</summary><ul><li><span class='ee-k'>0:</span><span class='ee-v'>-78.36022549055724</span></li><li><span class='ee-k'>1:</span><span class='ee-v'>9.651551066928661</span></li></ul></details></li></ul></details></li></ul></details></li><li><span class='ee-k'>system:index:</span><span class='ee-v'>S1A_IW_GRDH_1SDV_20231107T110652_20231107T110721_051110_0629EC_2903</span></li><li><span class='ee-k'>system:time_end:</span><span class='ee-v'>1699355212000</span></li><li><span class='ee-k'>system:time_start:</span><span class='ee-v'>1699355212000</span></li><li><span class='ee-k'>totalSlices:</span><span class='ee-v'>2</span></li><li><details><summary>transmitterReceiverPolarisation: ['VV', 'VH']</summary><ul><li><span class='ee-k'>0:</span><span class='ee-v'>VV</span></li><li><span class='ee-k'>1:</span><span class='ee-v'>VH</span></li></ul></details></li></ul></details></li></ul></details></li><li><details><summary>1: Image COPERNICUS/S1_GRD/S1A_IW_GRDH_1SDV_20231107T233210_20231107T233235_051118_062A36_BDA5 (3 bands)</summary><ul><li><span class='ee-k'>type:</span><span class='ee-v'>Image</span></li><li><span class='ee-k'>id:</span><span class='ee-v'>COPERNICUS/S1_GRD/S1A_IW_GRDH_1SDV_20231107T233210_20231107T233235_051118_062A36_BDA5</span></li><li><span class='ee-k'>version:</span><span class='ee-v'>1756794121779697</span></li><li><details><summary>bands: List (3 elements)</summary><ul><li><details><summary>0: \"VV\", double, EPSG:32617, 28855x21922 px</summary><ul><li><span class='ee-k'>id:</span><span class='ee-v'>VV</span></li><li><span class='ee-k'>crs:</span><span class='ee-v'>EPSG:32617</span></li><li><details><summary>crs_transform: List (6 elements)</summary><ul><li><span class='ee-k'>0:</span><span class='ee-v'>10</span></li><li><span class='ee-k'>1:</span><span class='ee-v'>0</span></li><li><span class='ee-k'>2:</span><span class='ee-v'>519304.1749172609</span></li><li><span class='ee-k'>3:</span><span class='ee-v'>0</span></li><li><span class='ee-k'>4:</span><span class='ee-v'>-10</span></li><li><span class='ee-k'>5:</span><span class='ee-v'>1154863.7849159057</span></li></ul></details></li><li><details><summary>data_type: double</summary><ul><li><span class='ee-k'>type:</span><span class='ee-v'>PixelType</span></li><li><span class='ee-k'>precision:</span><span class='ee-v'>double</span></li></ul></details></li><li><details><summary>dimensions: [28855, 21922]</summary><ul><li><span class='ee-k'>0:</span><span class='ee-v'>28855</span></li><li><span class='ee-k'>1:</span><span class='ee-v'>21922</span></li></ul></details></li></ul></details></li><li><details><summary>1: \"VH\", double, EPSG:32617, 28855x21922 px</summary><ul><li><span class='ee-k'>id:</span><span class='ee-v'>VH</span></li><li><span class='ee-k'>crs:</span><span class='ee-v'>EPSG:32617</span></li><li><details><summary>crs_transform: List (6 elements)</summary><ul><li><span class='ee-k'>0:</span><span class='ee-v'>10</span></li><li><span class='ee-k'>1:</span><span class='ee-v'>0</span></li><li><span class='ee-k'>2:</span><span class='ee-v'>519304.1749172609</span></li><li><span class='ee-k'>3:</span><span class='ee-v'>0</span></li><li><span class='ee-k'>4:</span><span class='ee-v'>-10</span></li><li><span class='ee-k'>5:</span><span class='ee-v'>1154863.7849159057</span></li></ul></details></li><li><details><summary>data_type: double</summary><ul><li><span class='ee-k'>type:</span><span class='ee-v'>PixelType</span></li><li><span class='ee-k'>precision:</span><span class='ee-v'>double</span></li></ul></details></li><li><details><summary>dimensions: [28855, 21922]</summary><ul><li><span class='ee-k'>0:</span><span class='ee-v'>28855</span></li><li><span class='ee-k'>1:</span><span class='ee-v'>21922</span></li></ul></details></li></ul></details></li><li><details><summary>2: \"angle\", float, EPSG:32617, 21x10 px</summary><ul><li><span class='ee-k'>id:</span><span class='ee-v'>angle</span></li><li><span class='ee-k'>crs:</span><span class='ee-v'>EPSG:32617</span></li><li><details><summary>crs_transform: List (6 elements)</summary><ul><li><span class='ee-k'>0:</span><span class='ee-v'>12357.780077222385</span></li><li><span class='ee-k'>1:</span><span class='ee-v'>-3826.7296497389907</span></li><li><span class='ee-k'>2:</span><span class='ee-v'>554297.6311846125</span></li><li><span class='ee-k'>3:</span><span class='ee-v'>2553.919490242959</span></li><li><span class='ee-k'>4:</span><span class='ee-v'>20130.619185801363</span></li><li><span class='ee-k'>5:</span><span class='ee-v'>935666.3489351672</span></li></ul></details></li><li><details><summary>data_type: float</summary><ul><li><span class='ee-k'>type:</span><span class='ee-v'>PixelType</span></li><li><span class='ee-k'>precision:</span><span class='ee-v'>float</span></li></ul></details></li><li><details><summary>dimensions: [21, 10]</summary><ul><li><span class='ee-k'>0:</span><span class='ee-v'>21</span></li><li><span class='ee-k'>1:</span><span class='ee-v'>10</span></li></ul></details></li></ul></details></li></ul></details></li><li><details><summary>properties: Object (56 properties)</summary><ul><li><span class='ee-k'>GRD_Post_Processing_facility_country:</span><span class='ee-v'>Italy</span></li><li><span class='ee-k'>GRD_Post_Processing_facility_name:</span><span class='ee-v'>Copernicus Ground Segment</span></li><li><span class='ee-k'>GRD_Post_Processing_facility_org:</span><span class='ee-v'>ESA</span></li><li><span class='ee-k'>GRD_Post_Processing_facility_site:</span><span class='ee-v'>Production Service-SERCO</span></li><li><span class='ee-k'>GRD_Post_Processing_software_name:</span><span class='ee-v'>Sentinel-1 IPF</span></li><li><span class='ee-k'>GRD_Post_Processing_software_version:</span><span class='ee-v'>003.71</span></li><li><span class='ee-k'>GRD_Post_Processing_start:</span><span class='ee-v'>1699417465617</span></li><li><span class='ee-k'>GRD_Post_Processing_stop:</span><span class='ee-v'>1699418094000</span></li><li><span class='ee-k'>S1TBX_Calibration_vers:</span><span class='ee-v'>9.0.0</span></li><li><span class='ee-k'>S1TBX_IO_Orbit_Ephemeris_vers:</span><span class='ee-v'>9.0.0</span></li><li><span class='ee-k'>S1TBX_SAR_Processing_vers:</span><span class='ee-v'>9.0.0</span></li><li><span class='ee-k'>SLC_Processing_facility_country:</span><span class='ee-v'>Italy</span></li><li><span class='ee-k'>SLC_Processing_facility_name:</span><span class='ee-v'>Copernicus Ground Segment</span></li><li><span class='ee-k'>SLC_Processing_facility_org:</span><span class='ee-v'>ESA</span></li><li><span class='ee-k'>SLC_Processing_facility_site:</span><span class='ee-v'>Production Service-SERCO</span></li><li><span class='ee-k'>SLC_Processing_software_name:</span><span class='ee-v'>Sentinel-1 IPF</span></li><li><span class='ee-k'>SLC_Processing_software_version:</span><span class='ee-v'>003.71</span></li><li><span class='ee-k'>SLC_Processing_start:</span><span class='ee-v'>1699417642000</span></li><li><span class='ee-k'>SLC_Processing_stop:</span><span class='ee-v'>1699417977000</span></li><li><span class='ee-k'>SNAP_Graph_Processing_Framework_GPF_vers:</span><span class='ee-v'>9.0.0</span></li><li><span class='ee-k'>cycleNumber:</span><span class='ee-v'>306</span></li><li><span class='ee-k'>familyName:</span><span class='ee-v'>SENTINEL-1</span></li><li><span class='ee-k'>instrument:</span><span class='ee-v'>Synthetic Aperture Radar</span></li><li><span class='ee-k'>instrumentConfigurationID:</span><span class='ee-v'>7</span></li><li><span class='ee-k'>instrumentMode:</span><span class='ee-v'>IW</span></li><li><span class='ee-k'>instrumentSwath:</span><span class='ee-v'>IW</span></li><li><span class='ee-k'>missionDataTakeID:</span><span class='ee-v'>404022</span></li><li><span class='ee-k'>nssdcIdentifier:</span><span class='ee-v'>2014-016A</span></li><li><span class='ee-k'>orbitNumber_start:</span><span class='ee-v'>51118</span></li><li><span class='ee-k'>orbitNumber_stop:</span><span class='ee-v'>51118</span></li><li><span class='ee-k'>orbitProperties_ascendingNodeTime:</span><span class='ee-v'>1699399802323</span></li><li><span class='ee-k'>orbitProperties_pass:</span><span class='ee-v'>ASCENDING</span></li><li><span class='ee-k'>phaseIdentifier:</span><span class='ee-v'>1</span></li><li><span class='ee-k'>platformHeading:</span><span class='ee-v'>-12.00764460456509</span></li><li><span class='ee-k'>platform_number:</span><span class='ee-v'>A</span></li><li><span class='ee-k'>productClass:</span><span class='ee-v'>S</span></li><li><span class='ee-k'>productClassDescription:</span><span class='ee-v'>SAR Standard L1 Product</span></li><li><span class='ee-k'>productComposition:</span><span class='ee-v'>Slice</span></li><li><span class='ee-k'>productTimelinessCategory:</span><span class='ee-v'>Fast-24h</span></li><li><span class='ee-k'>productType:</span><span class='ee-v'>GRD</span></li><li><span class='ee-k'>relativeOrbitNumber_start:</span><span class='ee-v'>121</span></li><li><span class='ee-k'>relativeOrbitNumber_stop:</span><span class='ee-v'>121</span></li><li><span class='ee-k'>resolution:</span><span class='ee-v'>H</span></li><li><span class='ee-k'>resolution_meters:</span><span class='ee-v'>10</span></li><li><span class='ee-k'>segmentStartTime:</span><span class='ee-v'>1699399902182</span></li><li><span class='ee-k'>sliceNumber:</span><span class='ee-v'>2</span></li><li><span class='ee-k'>sliceProductFlag:</span><span class='ee-v'>true</span></li><li><span class='ee-k'>startTimeANX:</span><span class='ee-v'>128560.2</span></li><li><span class='ee-k'>stopTimeANX:</span><span class='ee-v'>153558.3</span></li><li><span class='ee-k'>system:asset_size:</span><span class='ee-v'>4071871945</span></li><li><details><summary>system:footprint: LinearRing (19 vertices)</summary><ul><li><span class='ee-k'>type:</span><span class='ee-v'>LinearRing</span></li><li><details><summary>coordinates: List (19 elements)</summary><ul><li><details><summary>0: [-80.68499796080745, 9.299338061632294]</summary><ul><li><span class='ee-k'>0:</span><span class='ee-v'>-80.68499796080745</span></li><li><span class='ee-k'>1:</span><span class='ee-v'>9.299338061632294</span></li></ul></details></li><li><details><summary>1: [-80.66323502551018, 9.193442418599304]</summary><ul><li><span class='ee-k'>0:</span><span class='ee-v'>-80.66323502551018</span></li><li><span class='ee-k'>1:</span><span class='ee-v'>9.193442418599304</span></li></ul></details></li><li><details><summary>2: [-80.63695937432571, 9.065616751360949]</summary><ul><li><span class='ee-k'>0:</span><span class='ee-v'>-80.63695937432571</span></li><li><span class='ee-k'>1:</span><span class='ee-v'>9.065616751360949</span></li></ul></details></li><li><details><summary>3: [-80.51283612631343, 8.464415437663362]</summary><ul><li><span class='ee-k'>0:</span><span class='ee-v'>-80.51283612631343</span></li><li><span class='ee-k'>1:</span><span class='ee-v'>8.464415437663362</span></li></ul></details></li><li><details><summary>4: [-80.50614524177374, 8.46440699133499]</summary><ul><li><span class='ee-k'>0:</span><span class='ee-v'>-80.50614524177374</span></li><li><span class='ee-k'>1:</span><span class='ee-v'>8.46440699133499</span></li></ul></details></li><li><details><summary>5: [-79.24589027063263, 8.719816480298581]</summary><ul><li><span class='ee-k'>0:</span><span class='ee-v'>-79.24589027063263</span></li><li><span class='ee-k'>1:</span><span class='ee-v'>8.719816480298581</span></li></ul></details></li><li><details><summary>6: [-78.27261540665792, 8.91396666986872]</summary><ul><li><span class='ee-k'>0:</span><span class='ee-v'>-78.27261540665792</span></li><li><span class='ee-k'>1:</span><span class='ee-v'>8.91396666986872</span></li></ul></details></li><li><details><summary>7: [-78.32906720949653, 9.217116680077792]</summary><ul><li><span class='ee-k'>0:</span><span class='ee-v'>-78.32906720949653</span></li><li><span class='ee-k'>1:</span><span class='ee-v'>9.217116680077792</span></li></ul></details></li><li><details><summary>8: [-78.39010706702906, 9.51720480389568]</summary><ul><li><span class='ee-k'>0:</span><span class='ee-v'>-78.39010706702906</span></li><li><span class='ee-k'>1:</span><span class='ee-v'>9.51720480389568</span></li></ul></details></li><li><details><summary>9: [-78.45106870286303, 9.816732885903678]</summary><ul><li><span class='ee-k'>0:</span><span class='ee-v'>-78.45106870286303</span></li><li><span class='ee-k'>1:</span><span class='ee-v'>9.816732885903678</span></li></ul></details></li><li><details><summary>10: [-78.5120738718878, 10.116272925335643]</summary><ul><li><span class='ee-k'>0:</span><span class='ee-v'>-78.5120738718878</span></li><li><span class='ee-k'>1:</span><span class='ee-v'>10.116272925335643</span></li></ul></details></li><li><details><summary>11: [-78.57443179752244, 10.422217490948777]</summary><ul><li><span class='ee-k'>0:</span><span class='ee-v'>-78.57443179752244</span></li><li><span class='ee-k'>1:</span><span class='ee-v'>10.422217490948777</span></li></ul></details></li><li><details><summary>12: [-78.58031486245049, 10.421099040498806]</summary><ul><li><span class='ee-k'>0:</span><span class='ee-v'>-78.58031486245049</span></li><li><span class='ee-k'>1:</span><span class='ee-v'>10.421099040498806</span></li></ul></details></li><li><details><summary>13: [-79.68538501906859, 10.203758177653869]</summary><ul><li><span class='ee-k'>0:</span><span class='ee-v'>-79.68538501906859</span></li><li><span class='ee-k'>1:</span><span class='ee-v'>10.203758177653869</span></li></ul></details></li><li><details><summary>14: [-80.82392480176709, 9.97550328065764]</summary><ul><li><span class='ee-k'>0:</span><span class='ee-v'>-80.82392480176709</span></li><li><span class='ee-k'>1:</span><span class='ee-v'>9.97550328065764</span></li></ul></details></li><li><details><summary>15: [-80.78573224631137, 9.78957694852415]</summary><ul><li><span class='ee-k'>0:</span><span class='ee-v'>-80.78573224631137</span></li><li><span class='ee-k'>1:</span><span class='ee-v'>9.78957694852415</span></li></ul></details></li><li><details><summary>16: [-80.74408274287818, 9.586833404574133]</summary><ul><li><span class='ee-k'>0:</span><span class='ee-v'>-80.74408274287818</span></li><li><span class='ee-k'>1:</span><span class='ee-v'>9.586833404574133</span></li></ul></details></li><li><details><summary>17: [-80.70983381235308, 9.420164812680957]</summary><ul><li><span class='ee-k'>0:</span><span class='ee-v'>-80.70983381235308</span></li><li><span class='ee-k'>1:</span><span class='ee-v'>9.420164812680957</span></li></ul></details></li><li><details><summary>18: [-80.68499796080745, 9.299338061632294]</summary><ul><li><span class='ee-k'>0:</span><span class='ee-v'>-80.68499796080745</span></li><li><span class='ee-k'>1:</span><span class='ee-v'>9.299338061632294</span></li></ul></details></li></ul></details></li></ul></details></li><li><span class='ee-k'>system:index:</span><span class='ee-v'>S1A_IW_GRDH_1SDV_20231107T233210_20231107T233235_051118_062A36_BDA5</span></li><li><span class='ee-k'>system:time_end:</span><span class='ee-v'>1699399930000</span></li><li><span class='ee-k'>system:time_start:</span><span class='ee-v'>1699399930000</span></li><li><span class='ee-k'>totalSlices:</span><span class='ee-v'>29</span></li><li><details><summary>transmitterReceiverPolarisation: ['VV', 'VH']</summary><ul><li><span class='ee-k'>0:</span><span class='ee-v'>VV</span></li><li><span class='ee-k'>1:</span><span class='ee-v'>VH</span></li></ul></details></li></ul></details></li></ul></details></li><li><details><summary>2: Image COPERNICUS/S1_GRD/S1A_IW_GRDH_1SDV_20231119T110652_20231119T110721_051285_062FFB_3D54 (3 bands)</summary><ul><li><span class='ee-k'>type:</span><span class='ee-v'>Image</span></li><li><span class='ee-k'>id:</span><span class='ee-v'>COPERNICUS/S1_GRD/S1A_IW_GRDH_1SDV_20231119T110652_20231119T110721_051285_062FFB_3D54</span></li><li><span class='ee-k'>version:</span><span class='ee-v'>1756794121779697</span></li><li><details><summary>bands: List (3 elements)</summary><ul><li><details><summary>0: \"VV\", double, EPSG:32617, 28744x24463 px</summary><ul><li><span class='ee-k'>id:</span><span class='ee-v'>VV</span></li><li><span class='ee-k'>crs:</span><span class='ee-v'>EPSG:32617</span></li><li><details><summary>crs_transform: List (6 elements)</summary><ul><li><span class='ee-k'>0:</span><span class='ee-v'>10</span></li><li><span class='ee-k'>1:</span><span class='ee-v'>0</span></li><li><span class='ee-k'>2:</span><span class='ee-v'>507481.6086383785</span></li><li><span class='ee-k'>3:</span><span class='ee-v'>0</span></li><li><span class='ee-k'>4:</span><span class='ee-v'>-10</span></li><li><span class='ee-k'>5:</span><span class='ee-v'>1137951.1512828474</span></li></ul></details></li><li><details><summary>data_type: double</summary><ul><li><span class='ee-k'>type:</span><span class='ee-v'>PixelType</span></li><li><span class='ee-k'>precision:</span><span class='ee-v'>double</span></li></ul></details></li><li><details><summary>dimensions: [28744, 24463]</summary><ul><li><span class='ee-k'>0:</span><span class='ee-v'>28744</span></li><li><span class='ee-k'>1:</span><span class='ee-v'>24463</span></li></ul></details></li></ul></details></li><li><details><summary>1: \"VH\", double, EPSG:32617, 28744x24463 px</summary><ul><li><span class='ee-k'>id:</span><span class='ee-v'>VH</span></li><li><span class='ee-k'>crs:</span><span class='ee-v'>EPSG:32617</span></li><li><details><summary>crs_transform: List (6 elements)</summary><ul><li><span class='ee-k'>0:</span><span class='ee-v'>10</span></li><li><span class='ee-k'>1:</span><span class='ee-v'>0</span></li><li><span class='ee-k'>2:</span><span class='ee-v'>507481.6086383785</span></li><li><span class='ee-k'>3:</span><span class='ee-v'>0</span></li><li><span class='ee-k'>4:</span><span class='ee-v'>-10</span></li><li><span class='ee-k'>5:</span><span class='ee-v'>1137951.1512828474</span></li></ul></details></li><li><details><summary>data_type: double</summary><ul><li><span class='ee-k'>type:</span><span class='ee-v'>PixelType</span></li><li><span class='ee-k'>precision:</span><span class='ee-v'>double</span></li></ul></details></li><li><details><summary>dimensions: [28744, 24463]</summary><ul><li><span class='ee-k'>0:</span><span class='ee-v'>28744</span></li><li><span class='ee-k'>1:</span><span class='ee-v'>24463</span></li></ul></details></li></ul></details></li><li><details><summary>2: \"angle\", float, EPSG:32617, 21x11 px</summary><ul><li><span class='ee-k'>id:</span><span class='ee-v'>angle</span></li><li><span class='ee-k'>crs:</span><span class='ee-v'>EPSG:32617</span></li><li><details><summary>crs_transform: List (6 elements)</summary><ul><li><span class='ee-k'>0:</span><span class='ee-v'>-12343.287819269113</span></li><li><span class='ee-k'>1:</span><span class='ee-v'>-3934.958867405425</span></li><li><span class='ee-k'>2:</span><span class='ee-v'>793517.078915596</span></li><li><span class='ee-k'>3:</span><span class='ee-v'>2417.58977309661</span></li><li><span class='ee-k'>4:</span><span class='ee-v'>-20124.832582747098</span></li><li><span class='ee-k'>5:</span><span class='ee-v'>1088475.375390064</span></li></ul></details></li><li><details><summary>data_type: float</summary><ul><li><span class='ee-k'>type:</span><span class='ee-v'>PixelType</span></li><li><span class='ee-k'>precision:</span><span class='ee-v'>float</span></li></ul></details></li><li><details><summary>dimensions: [21, 11]</summary><ul><li><span class='ee-k'>0:</span><span class='ee-v'>21</span></li><li><span class='ee-k'>1:</span><span class='ee-v'>11</span></li></ul></details></li></ul></details></li></ul></details></li><li><details><summary>properties: Object (56 properties)</summary><ul><li><span class='ee-k'>GRD_Post_Processing_facility_country:</span><span class='ee-v'>Italy</span></li><li><span class='ee-k'>GRD_Post_Processing_facility_name:</span><span class='ee-v'>Copernicus Ground Segment</span></li><li><span class='ee-k'>GRD_Post_Processing_facility_org:</span><span class='ee-v'>ESA</span></li><li><span class='ee-k'>GRD_Post_Processing_facility_site:</span><span class='ee-v'>Production Service-SERCO</span></li><li><span class='ee-k'>GRD_Post_Processing_software_name:</span><span class='ee-v'>Sentinel-1 IPF</span></li><li><span class='ee-k'>GRD_Post_Processing_software_version:</span><span class='ee-v'>003.71</span></li><li><span class='ee-k'>GRD_Post_Processing_start:</span><span class='ee-v'>1700398349750</span></li><li><span class='ee-k'>GRD_Post_Processing_stop:</span><span class='ee-v'>1700398917000</span></li><li><span class='ee-k'>S1TBX_Calibration_vers:</span><span class='ee-v'>9.0.0</span></li><li><span class='ee-k'>S1TBX_IO_Orbit_Ephemeris_vers:</span><span class='ee-v'>9.0.0</span></li><li><span class='ee-k'>S1TBX_SAR_Processing_vers:</span><span class='ee-v'>9.0.0</span></li><li><span class='ee-k'>SLC_Processing_facility_country:</span><span class='ee-v'>Italy</span></li><li><span class='ee-k'>SLC_Processing_facility_name:</span><span class='ee-v'>Copernicus Ground Segment</span></li><li><span class='ee-k'>SLC_Processing_facility_org:</span><span class='ee-v'>ESA</span></li><li><span class='ee-k'>SLC_Processing_facility_site:</span><span class='ee-v'>Production Service-SERCO</span></li><li><span class='ee-k'>SLC_Processing_software_name:</span><span class='ee-v'>Sentinel-1 IPF</span></li><li><span class='ee-k'>SLC_Processing_software_version:</span><span class='ee-v'>003.71</span></li><li><span class='ee-k'>SLC_Processing_start:</span><span class='ee-v'>1700398496000</span></li><li><span class='ee-k'>SLC_Processing_stop:</span><span class='ee-v'>1700398800000</span></li><li><span class='ee-k'>SNAP_Graph_Processing_Framework_GPF_vers:</span><span class='ee-v'>9.0.0</span></li><li><span class='ee-k'>cycleNumber:</span><span class='ee-v'>307</span></li><li><span class='ee-k'>familyName:</span><span class='ee-v'>SENTINEL-1</span></li><li><span class='ee-k'>instrument:</span><span class='ee-v'>Synthetic Aperture Radar</span></li><li><span class='ee-k'>instrumentConfigurationID:</span><span class='ee-v'>7</span></li><li><span class='ee-k'>instrumentMode:</span><span class='ee-v'>IW</span></li><li><span class='ee-k'>instrumentSwath:</span><span class='ee-v'>IW</span></li><li><span class='ee-k'>missionDataTakeID:</span><span class='ee-v'>405499</span></li><li><span class='ee-k'>nssdcIdentifier:</span><span class='ee-v'>2014-016A</span></li><li><span class='ee-k'>orbitNumber_start:</span><span class='ee-v'>51285</span></li><li><span class='ee-k'>orbitNumber_stop:</span><span class='ee-v'>51285</span></li><li><span class='ee-k'>orbitProperties_ascendingNodeTime:</span><span class='ee-v'>1700389205927</span></li><li><span class='ee-k'>orbitProperties_pass:</span><span class='ee-v'>DESCENDING</span></li><li><span class='ee-k'>phaseIdentifier:</span><span class='ee-v'>1</span></li><li><span class='ee-k'>platformHeading:</span><span class='ee-v'>-167.9943767666578</span></li><li><span class='ee-k'>platform_number:</span><span class='ee-v'>A</span></li><li><span class='ee-k'>productClass:</span><span class='ee-v'>S</span></li><li><span class='ee-k'>productClassDescription:</span><span class='ee-v'>SAR Standard L1 Product</span></li><li><span class='ee-k'>productComposition:</span><span class='ee-v'>Slice</span></li><li><span class='ee-k'>productTimelinessCategory:</span><span class='ee-v'>Fast-24h</span></li><li><span class='ee-k'>productType:</span><span class='ee-v'>GRD</span></li><li><span class='ee-k'>relativeOrbitNumber_start:</span><span class='ee-v'>113</span></li><li><span class='ee-k'>relativeOrbitNumber_stop:</span><span class='ee-v'>113</span></li><li><span class='ee-k'>resolution:</span><span class='ee-v'>H</span></li><li><span class='ee-k'>resolution_meters:</span><span class='ee-v'>10</span></li><li><span class='ee-k'>segmentStartTime:</span><span class='ee-v'>1700392012845</span></li><li><span class='ee-k'>sliceNumber:</span><span class='ee-v'>1</span></li><li><span class='ee-k'>sliceProductFlag:</span><span class='ee-v'>true</span></li><li><span class='ee-k'>startTimeANX:</span><span class='ee-v'>2806611</span></li><li><span class='ee-k'>stopTimeANX:</span><span class='ee-v'>2835618</span></li><li><span class='ee-k'>system:asset_size:</span><span class='ee-v'>4560292132</span></li><li><details><summary>system:footprint: LinearRing (21 vertices)</summary><ul><li><span class='ee-k'>type:</span><span class='ee-v'>LinearRing</span></li><li><details><summary>coordinates: List (21 elements)</summary><ul><li><details><summary>0: [-80.92692765620872, 8.53841465872367]</summary><ul><li><span class='ee-k'>0:</span><span class='ee-v'>-80.92692765620872</span></li><li><span class='ee-k'>1:</span><span class='ee-v'>8.53841465872367</span></li></ul></details></li><li><details><summary>1: [-80.92692841559536, 8.534571034491506]</summary><ul><li><span class='ee-k'>0:</span><span class='ee-v'>-80.92692841559536</span></li><li><span class='ee-k'>1:</span><span class='ee-v'>8.534571034491506</span></li></ul></details></li><li><details><summary>2: [-80.92660997882805, 8.534253916507414]</summary><ul><li><span class='ee-k'>0:</span><span class='ee-v'>-80.92660997882805</span></li><li><span class='ee-k'>1:</span><span class='ee-v'>8.534253916507414</span></li></ul></details></li><li><details><summary>3: [-80.84480926116042, 8.51794288855472]</summary><ul><li><span class='ee-k'>0:</span><span class='ee-v'>-80.84480926116042</span></li><li><span class='ee-k'>1:</span><span class='ee-v'>8.51794288855472</span></li></ul></details></li><li><details><summary>4: [-79.83173627551729, 8.314772456328491]</summary><ul><li><span class='ee-k'>0:</span><span class='ee-v'>-79.83173627551729</span></li><li><span class='ee-k'>1:</span><span class='ee-v'>8.314772456328491</span></li></ul></details></li><li><details><summary>5: [-78.68474639706642, 8.081461699610736]</summary><ul><li><span class='ee-k'>0:</span><span class='ee-v'>-78.68474639706642</span></li><li><span class='ee-k'>1:</span><span class='ee-v'>8.081461699610736</span></li></ul></details></li><li><details><summary>6: [-78.6763550599046, 8.122067798178437]</summary><ul><li><span class='ee-k'>0:</span><span class='ee-v'>-78.6763550599046</span></li><li><span class='ee-k'>1:</span><span class='ee-v'>8.122067798178437</span></li></ul></details></li><li><details><summary>7: [-78.63941430700346, 8.301861683323871]</summary><ul><li><span class='ee-k'>0:</span><span class='ee-v'>-78.63941430700346</span></li><li><span class='ee-k'>1:</span><span class='ee-v'>8.301861683323871</span></li></ul></details></li><li><details><summary>8: [-78.60320936355315, 8.478035599123457]</summary><ul><li><span class='ee-k'>0:</span><span class='ee-v'>-78.60320936355315</span></li><li><span class='ee-k'>1:</span><span class='ee-v'>8.478035599123457</span></li></ul></details></li><li><details><summary>9: [-78.57179617991103, 8.630967558579043]</summary><ul><li><span class='ee-k'>0:</span><span class='ee-v'>-78.57179617991103</span></li><li><span class='ee-k'>1:</span><span class='ee-v'>8.630967558579043</span></li></ul></details></li><li><details><summary>10: [-78.49366550487107, 9.011781821868517]</summary><ul><li><span class='ee-k'>0:</span><span class='ee-v'>-78.49366550487107</span></li><li><span class='ee-k'>1:</span><span class='ee-v'>9.011781821868517</span></li></ul></details></li><li><details><summary>11: [-78.41481121445304, 9.39473527313919]</summary><ul><li><span class='ee-k'>0:</span><span class='ee-v'>-78.41481121445304</span></li><li><span class='ee-k'>1:</span><span class='ee-v'>9.39473527313919</span></li></ul></details></li><li><details><summary>12: [-78.38797276986067, 9.5252392966684]</summary><ul><li><span class='ee-k'>0:</span><span class='ee-v'>-78.38797276986067</span></li><li><span class='ee-k'>1:</span><span class='ee-v'>9.5252392966684</span></li></ul></details></li><li><details><summary>13: [-78.35045970034484, 9.707680994171618]</summary><ul><li><span class='ee-k'>0:</span><span class='ee-v'>-78.35045970034484</span></li><li><span class='ee-k'>1:</span><span class='ee-v'>9.707680994171618</span></li></ul></details></li><li><details><summary>14: [-78.32431865740229, 9.834873468315415]</summary><ul><li><span class='ee-k'>0:</span><span class='ee-v'>-78.32431865740229</span></li><li><span class='ee-k'>1:</span><span class='ee-v'>9.834873468315415</span></li></ul></details></li><li><details><summary>15: [-79.08632432426582, 9.98824693494871]</summary><ul><li><span class='ee-k'>0:</span><span class='ee-v'>-79.08632432426582</span></li><li><span class='ee-k'>1:</span><span class='ee-v'>9.98824693494871</span></li></ul></details></li><li><details><summary>16: [-79.88803596124588, 10.082228959403384]</summary><ul><li><span class='ee-k'>0:</span><span class='ee-v'>-79.88803596124588</span></li><li><span class='ee-k'>1:</span><span class='ee-v'>10.082228959403384</span></li></ul></details></li><li><details><summary>17: [-80.5950644647798, 10.16045187967117]</summary><ul><li><span class='ee-k'>0:</span><span class='ee-v'>-80.5950644647798</span></li><li><span class='ee-k'>1:</span><span class='ee-v'>10.16045187967117</span></li></ul></details></li><li><details><summary>18: [-80.75667330901368, 9.377372657403251]</summary><ul><li><span class='ee-k'>0:</span><span class='ee-v'>-80.75667330901368</span></li><li><span class='ee-k'>1:</span><span class='ee-v'>9.377372657403251</span></li></ul></details></li><li><details><summary>19: [-80.91737290142062, 8.59486423082526]</summary><ul><li><span class='ee-k'>0:</span><span class='ee-v'>-80.91737290142062</span></li><li><span class='ee-k'>1:</span><span class='ee-v'>8.59486423082526</span></li></ul></details></li><li><details><summary>20: [-80.92692765620872, 8.53841465872367]</summary><ul><li><span class='ee-k'>0:</span><span class='ee-v'>-80.92692765620872</span></li><li><span class='ee-k'>1:</span><span class='ee-v'>8.53841465872367</span></li></ul></details></li></ul></details></li></ul></details></li><li><span class='ee-k'>system:index:</span><span class='ee-v'>S1A_IW_GRDH_1SDV_20231119T110652_20231119T110721_051285_062FFB_3D54</span></li><li><span class='ee-k'>system:time_end:</span><span class='ee-v'>1700392012000</span></li><li><span class='ee-k'>system:time_start:</span><span class='ee-v'>1700392012000</span></li><li><span class='ee-k'>totalSlices:</span><span class='ee-v'>2</span></li><li><details><summary>transmitterReceiverPolarisation: ['VV', 'VH']</summary><ul><li><span class='ee-k'>0:</span><span class='ee-v'>VV</span></li><li><span class='ee-k'>1:</span><span class='ee-v'>VH</span></li></ul></details></li></ul></details></li></ul></details></li><li><details><summary>3: Image COPERNICUS/S1_GRD/S1A_IW_GRDH_1SDV_20231119T233211_20231119T233236_051293_063045_5871 (3 bands)</summary><ul><li><span class='ee-k'>type:</span><span class='ee-v'>Image</span></li><li><span class='ee-k'>id:</span><span class='ee-v'>COPERNICUS/S1_GRD/S1A_IW_GRDH_1SDV_20231119T233211_20231119T233236_051293_063045_5871</span></li><li><span class='ee-k'>version:</span><span class='ee-v'>1756794121779697</span></li><li><details><summary>bands: List (3 elements)</summary><ul><li><details><summary>0: \"VV\", double, EPSG:32617, 28856x21922 px</summary><ul><li><span class='ee-k'>id:</span><span class='ee-v'>VV</span></li><li><span class='ee-k'>crs:</span><span class='ee-v'>EPSG:32617</span></li><li><details><summary>crs_transform: List (6 elements)</summary><ul><li><span class='ee-k'>0:</span><span class='ee-v'>10</span></li><li><span class='ee-k'>1:</span><span class='ee-v'>0</span></li><li><span class='ee-k'>2:</span><span class='ee-v'>519000.2141995938</span></li><li><span class='ee-k'>3:</span><span class='ee-v'>0</span></li><li><span class='ee-k'>4:</span><span class='ee-v'>-10</span></li><li><span class='ee-k'>5:</span><span class='ee-v'>1154872.3951642213</span></li></ul></details></li><li><details><summary>data_type: double</summary><ul><li><span class='ee-k'>type:</span><span class='ee-v'>PixelType</span></li><li><span class='ee-k'>precision:</span><span class='ee-v'>double</span></li></ul></details></li><li><details><summary>dimensions: [28856, 21922]</summary><ul><li><span class='ee-k'>0:</span><span class='ee-v'>28856</span></li><li><span class='ee-k'>1:</span><span class='ee-v'>21922</span></li></ul></details></li></ul></details></li><li><details><summary>1: \"VH\", double, EPSG:32617, 28856x21922 px</summary><ul><li><span class='ee-k'>id:</span><span class='ee-v'>VH</span></li><li><span class='ee-k'>crs:</span><span class='ee-v'>EPSG:32617</span></li><li><details><summary>crs_transform: List (6 elements)</summary><ul><li><span class='ee-k'>0:</span><span class='ee-v'>10</span></li><li><span class='ee-k'>1:</span><span class='ee-v'>0</span></li><li><span class='ee-k'>2:</span><span class='ee-v'>519000.2141995938</span></li><li><span class='ee-k'>3:</span><span class='ee-v'>0</span></li><li><span class='ee-k'>4:</span><span class='ee-v'>-10</span></li><li><span class='ee-k'>5:</span><span class='ee-v'>1154872.3951642213</span></li></ul></details></li><li><details><summary>data_type: double</summary><ul><li><span class='ee-k'>type:</span><span class='ee-v'>PixelType</span></li><li><span class='ee-k'>precision:</span><span class='ee-v'>double</span></li></ul></details></li><li><details><summary>dimensions: [28856, 21922]</summary><ul><li><span class='ee-k'>0:</span><span class='ee-v'>28856</span></li><li><span class='ee-k'>1:</span><span class='ee-v'>21922</span></li></ul></details></li></ul></details></li><li><details><summary>2: \"angle\", float, EPSG:32617, 21x10 px</summary><ul><li><span class='ee-k'>id:</span><span class='ee-v'>angle</span></li><li><span class='ee-k'>crs:</span><span class='ee-v'>EPSG:32617</span></li><li><details><summary>crs_transform: List (6 elements)</summary><ul><li><span class='ee-k'>0:</span><span class='ee-v'>12357.790462519508</span></li><li><span class='ee-k'>1:</span><span class='ee-v'>-3826.91376617644</span></li><li><span class='ee-k'>2:</span><span class='ee-v'>553994.2573484456</span></li><li><span class='ee-k'>3:</span><span class='ee-v'>2554.05194840848</span></li><li><span class='ee-k'>4:</span><span class='ee-v'>20130.638307277462</span></li><li><span class='ee-k'>5:</span><span class='ee-v'>935672.0462417573</span></li></ul></details></li><li><details><summary>data_type: float</summary><ul><li><span class='ee-k'>type:</span><span class='ee-v'>PixelType</span></li><li><span class='ee-k'>precision:</span><span class='ee-v'>float</span></li></ul></details></li><li><details><summary>dimensions: [21, 10]</summary><ul><li><span class='ee-k'>0:</span><span class='ee-v'>21</span></li><li><span class='ee-k'>1:</span><span class='ee-v'>10</span></li></ul></details></li></ul></details></li></ul></details></li><li><details><summary>properties: Object (56 properties)</summary><ul><li><span class='ee-k'>GRD_Post_Processing_facility_country:</span><span class='ee-v'>Italy</span></li><li><span class='ee-k'>GRD_Post_Processing_facility_name:</span><span class='ee-v'>Copernicus Ground Segment</span></li><li><span class='ee-k'>GRD_Post_Processing_facility_org:</span><span class='ee-v'>ESA</span></li><li><span class='ee-k'>GRD_Post_Processing_facility_site:</span><span class='ee-v'>Production Service-SERCO</span></li><li><span class='ee-k'>GRD_Post_Processing_software_name:</span><span class='ee-v'>Sentinel-1 IPF</span></li><li><span class='ee-k'>GRD_Post_Processing_software_version:</span><span class='ee-v'>003.71</span></li><li><span class='ee-k'>GRD_Post_Processing_start:</span><span class='ee-v'>1700454267559</span></li><li><span class='ee-k'>GRD_Post_Processing_stop:</span><span class='ee-v'>1700454918000</span></li><li><span class='ee-k'>S1TBX_Calibration_vers:</span><span class='ee-v'>9.0.0</span></li><li><span class='ee-k'>S1TBX_IO_Orbit_Ephemeris_vers:</span><span class='ee-v'>9.0.0</span></li><li><span class='ee-k'>S1TBX_SAR_Processing_vers:</span><span class='ee-v'>9.0.0</span></li><li><span class='ee-k'>SLC_Processing_facility_country:</span><span class='ee-v'>Italy</span></li><li><span class='ee-k'>SLC_Processing_facility_name:</span><span class='ee-v'>Copernicus Ground Segment</span></li><li><span class='ee-k'>SLC_Processing_facility_org:</span><span class='ee-v'>ESA</span></li><li><span class='ee-k'>SLC_Processing_facility_site:</span><span class='ee-v'>Production Service-SERCO</span></li><li><span class='ee-k'>SLC_Processing_software_name:</span><span class='ee-v'>Sentinel-1 IPF</span></li><li><span class='ee-k'>SLC_Processing_software_version:</span><span class='ee-v'>003.71</span></li><li><span class='ee-k'>SLC_Processing_start:</span><span class='ee-v'>1700454469000</span></li><li><span class='ee-k'>SLC_Processing_stop:</span><span class='ee-v'>1700454802000</span></li><li><span class='ee-k'>SNAP_Graph_Processing_Framework_GPF_vers:</span><span class='ee-v'>9.0.0</span></li><li><span class='ee-k'>cycleNumber:</span><span class='ee-v'>307</span></li><li><span class='ee-k'>familyName:</span><span class='ee-v'>SENTINEL-1</span></li><li><span class='ee-k'>instrument:</span><span class='ee-v'>Synthetic Aperture Radar</span></li><li><span class='ee-k'>instrumentConfigurationID:</span><span class='ee-v'>7</span></li><li><span class='ee-k'>instrumentMode:</span><span class='ee-v'>IW</span></li><li><span class='ee-k'>instrumentSwath:</span><span class='ee-v'>IW</span></li><li><span class='ee-k'>missionDataTakeID:</span><span class='ee-v'>405573</span></li><li><span class='ee-k'>nssdcIdentifier:</span><span class='ee-v'>2014-016A</span></li><li><span class='ee-k'>orbitNumber_start:</span><span class='ee-v'>51293</span></li><li><span class='ee-k'>orbitNumber_stop:</span><span class='ee-v'>51293</span></li><li><span class='ee-k'>orbitProperties_ascendingNodeTime:</span><span class='ee-v'>1700436602471</span></li><li><span class='ee-k'>orbitProperties_pass:</span><span class='ee-v'>ASCENDING</span></li><li><span class='ee-k'>phaseIdentifier:</span><span class='ee-v'>1</span></li><li><span class='ee-k'>platformHeading:</span><span class='ee-v'>-12.00838500434686</span></li><li><span class='ee-k'>platform_number:</span><span class='ee-v'>A</span></li><li><span class='ee-k'>productClass:</span><span class='ee-v'>S</span></li><li><span class='ee-k'>productClassDescription:</span><span class='ee-v'>SAR Standard L1 Product</span></li><li><span class='ee-k'>productComposition:</span><span class='ee-v'>Slice</span></li><li><span class='ee-k'>productTimelinessCategory:</span><span class='ee-v'>Fast-24h</span></li><li><span class='ee-k'>productType:</span><span class='ee-v'>GRD</span></li><li><span class='ee-k'>relativeOrbitNumber_start:</span><span class='ee-v'>121</span></li><li><span class='ee-k'>relativeOrbitNumber_stop:</span><span class='ee-v'>121</span></li><li><span class='ee-k'>resolution:</span><span class='ee-v'>H</span></li><li><span class='ee-k'>resolution_meters:</span><span class='ee-v'>10</span></li><li><span class='ee-k'>segmentStartTime:</span><span class='ee-v'>1700436702331</span></li><li><span class='ee-k'>sliceNumber:</span><span class='ee-v'>2</span></li><li><span class='ee-k'>sliceProductFlag:</span><span class='ee-v'>true</span></li><li><span class='ee-k'>startTimeANX:</span><span class='ee-v'>128560.8</span></li><li><span class='ee-k'>stopTimeANX:</span><span class='ee-v'>153558.9</span></li><li><span class='ee-k'>system:asset_size:</span><span class='ee-v'>4070432239</span></li><li><details><summary>system:footprint: LinearRing (22 vertices)</summary><ul><li><span class='ee-k'>type:</span><span class='ee-v'>LinearRing</span></li><li><details><summary>coordinates: List (22 elements)</summary><ul><li><details><summary>0: [-79.87148670262026, 8.594212082269507]</summary><ul><li><span class='ee-k'>0:</span><span class='ee-v'>-79.87148670262026</span></li><li><span class='ee-k'>1:</span><span class='ee-v'>8.594212082269507</span></li></ul></details></li><li><details><summary>1: [-79.25383643162021, 8.718846009335028]</summary><ul><li><span class='ee-k'>0:</span><span class='ee-v'>-79.25383643162021</span></li><li><span class='ee-k'>1:</span><span class='ee-v'>8.718846009335028</span></li></ul></details></li><li><details><summary>2: [-78.27521319102433, 8.914085861621492]</summary><ul><li><span class='ee-k'>0:</span><span class='ee-v'>-78.27521319102433</span></li><li><span class='ee-k'>1:</span><span class='ee-v'>8.914085861621492</span></li></ul></details></li><li><details><summary>3: [-78.33141365857085, 9.216157051529095]</summary><ul><li><span class='ee-k'>0:</span><span class='ee-v'>-78.33141365857085</span></li><li><span class='ee-k'>1:</span><span class='ee-v'>9.216157051529095</span></li></ul></details></li><li><details><summary>4: [-78.39273601666909, 9.517370009621825]</summary><ul><li><span class='ee-k'>0:</span><span class='ee-v'>-78.39273601666909</span></li><li><span class='ee-k'>1:</span><span class='ee-v'>9.517370009621825</span></li></ul></details></li><li><details><summary>5: [-78.45409716320988, 9.818595492722286]</summary><ul><li><span class='ee-k'>0:</span><span class='ee-v'>-78.45409716320988</span></li><li><span class='ee-k'>1:</span><span class='ee-v'>9.818595492722286</span></li></ul></details></li><li><details><summary>6: [-78.51550239081838, 10.119833135562441]</summary><ul><li><span class='ee-k'>0:</span><span class='ee-v'>-78.51550239081838</span></li><li><span class='ee-k'>1:</span><span class='ee-v'>10.119833135562441</span></li></ul></details></li><li><details><summary>7: [-78.57721046202674, 10.422323378370548]</summary><ul><li><span class='ee-k'>0:</span><span class='ee-v'>-78.57721046202674</span></li><li><span class='ee-k'>1:</span><span class='ee-v'>10.422323378370548</span></li></ul></details></li><li><details><summary>8: [-78.59104321499761, 10.419631123119073]</summary><ul><li><span class='ee-k'>0:</span><span class='ee-v'>-78.59104321499761</span></li><li><span class='ee-k'>1:</span><span class='ee-v'>10.419631123119073</span></li></ul></details></li><li><details><summary>9: [-79.69542186140652, 10.202384286988217]</summary><ul><li><span class='ee-k'>0:</span><span class='ee-v'>-79.69542186140652</span></li><li><span class='ee-k'>1:</span><span class='ee-v'>10.202384286988217</span></li></ul></details></li><li><details><summary>10: [-80.82665514623172, 9.975567207118363]</summary><ul><li><span class='ee-k'>0:</span><span class='ee-v'>-80.82665514623172</span></li><li><span class='ee-k'>1:</span><span class='ee-v'>9.975567207118363</span></li></ul></details></li><li><details><summary>11: [-80.8242708521727, 9.963716642060106]</summary><ul><li><span class='ee-k'>0:</span><span class='ee-v'>-80.8242708521727</span></li><li><span class='ee-k'>1:</span><span class='ee-v'>9.963716642060106</span></li></ul></details></li><li><details><summary>12: [-80.79488995445874, 9.820700664190635]</summary><ul><li><span class='ee-k'>0:</span><span class='ee-v'>-80.79488995445874</span></li><li><span class='ee-k'>1:</span><span class='ee-v'>9.820700664190635</span></li></ul></details></li><li><details><summary>13: [-80.77128609009488, 9.705798450304009]</summary><ul><li><span class='ee-k'>0:</span><span class='ee-v'>-80.77128609009488</span></li><li><span class='ee-k'>1:</span><span class='ee-v'>9.705798450304009</span></li></ul></details></li><li><details><summary>14: [-80.74537181617531, 9.579678791326133]</summary><ul><li><span class='ee-k'>0:</span><span class='ee-v'>-80.74537181617531</span></li><li><span class='ee-k'>1:</span><span class='ee-v'>9.579678791326133</span></li></ul></details></li><li><details><summary>15: [-80.71225575331431, 9.418525377195982]</summary><ul><li><span class='ee-k'>0:</span><span class='ee-v'>-80.71225575331431</span></li><li><span class='ee-k'>1:</span><span class='ee-v'>9.418525377195982</span></li></ul></details></li><li><details><summary>16: [-80.68228855466029, 9.27272842898753]</summary><ul><li><span class='ee-k'>0:</span><span class='ee-v'>-80.68228855466029</span></li><li><span class='ee-k'>1:</span><span class='ee-v'>9.27272842898753</span></li></ul></details></li><li><details><summary>17: [-80.65603072619672, 9.144994392807]</summary><ul><li><span class='ee-k'>0:</span><span class='ee-v'>-80.65603072619672</span></li><li><span class='ee-k'>1:</span><span class='ee-v'>9.144994392807</span></li></ul></details></li><li><details><summary>18: [-80.63856532199523, 9.06004571857599]</summary><ul><li><span class='ee-k'>0:</span><span class='ee-v'>-80.63856532199523</span></li><li><span class='ee-k'>1:</span><span class='ee-v'>9.06004571857599</span></li></ul></details></li><li><details><summary>19: [-80.51552264094869, 8.464496596458552]</summary><ul><li><span class='ee-k'>0:</span><span class='ee-v'>-80.51552264094869</span></li><li><span class='ee-k'>1:</span><span class='ee-v'>8.464496596458552</span></li></ul></details></li><li><details><summary>20: [-80.5087748101162, 8.464488217298994]</summary><ul><li><span class='ee-k'>0:</span><span class='ee-v'>-80.5087748101162</span></li><li><span class='ee-k'>1:</span><span class='ee-v'>8.464488217298994</span></li></ul></details></li><li><details><summary>21: [-79.87148670262026, 8.594212082269507]</summary><ul><li><span class='ee-k'>0:</span><span class='ee-v'>-79.87148670262026</span></li><li><span class='ee-k'>1:</span><span class='ee-v'>8.594212082269507</span></li></ul></details></li></ul></details></li></ul></details></li><li><span class='ee-k'>system:index:</span><span class='ee-v'>S1A_IW_GRDH_1SDV_20231119T233211_20231119T233236_051293_063045_5871</span></li><li><span class='ee-k'>system:time_end:</span><span class='ee-v'>1700436731000</span></li><li><span class='ee-k'>system:time_start:</span><span class='ee-v'>1700436731000</span></li><li><span class='ee-k'>totalSlices:</span><span class='ee-v'>29</span></li><li><details><summary>transmitterReceiverPolarisation: ['VV', 'VH']</summary><ul><li><span class='ee-k'>0:</span><span class='ee-v'>VV</span></li><li><span class='ee-k'>1:</span><span class='ee-v'>VH</span></li></ul></details></li></ul></details></li></ul></details></li></ul></details></li></ul></details></li></ul></div></div>"
      ],
      "text/plain": [
       "<ee.imagecollection.ImageCollection at 0x12a6aca24e0>"
      ]
     },
     "execution_count": 12,
     "metadata": {},
     "output_type": "execute_result"
    }
   ],
   "source": [
    "S1_data"
   ]
  },
  {
   "cell_type": "markdown",
   "id": "498e8889-2b23-477a-b657-04ad18516675",
   "metadata": {},
   "source": [
    "---"
   ]
  },
  {
   "cell_type": "markdown",
   "id": "9ba160a7-a925-4e79-ab96-f8be7c4f5946",
   "metadata": {},
   "source": [
    "### Generate a ship mask layer"
   ]
  },
  {
   "cell_type": "markdown",
   "id": "ef12c2f9-821a-4210-bd9e-b7477f9029f0",
   "metadata": {},
   "source": [
    "First, we select one image from the ImageCollection (select the first using \"first\"). Then, we clip it to our AOI polygon (we cut away everything outside the AOI). Last, we only want to store the \"VV\" band as we need that for the ship detection. To generate the ship mask we use a simple threshold approach. As mentioned above ships have a very high backscatter signal in the SAR image compared to the low background values of the water. Therefore, we can use a threshold value of zero for our binary mask where any pixel with a value greater than zero is considered a ship and assigned a value of 1, and all other pixels are assigned a value of 0."
   ]
  },
  {
   "cell_type": "code",
   "execution_count": 19,
   "id": "8a0cfbd1-9513-4182-a58c-f0e80bff82c9",
   "metadata": {},
   "outputs": [
    {
     "data": {
      "text/html": [
       "\n",
       "            <style>\n",
       "                .geemap-dark {\n",
       "                    --jp-widgets-color: white;\n",
       "                    --jp-widgets-label-color: white;\n",
       "                    --jp-ui-font-color1: white;\n",
       "                    --jp-layout-color2: #454545;\n",
       "                    background-color: #383838;\n",
       "                }\n",
       "\n",
       "                .geemap-dark .jupyter-button {\n",
       "                    --jp-layout-color3: #383838;\n",
       "                }\n",
       "\n",
       "                .geemap-colab {\n",
       "                    background-color: var(--colab-primary-surface-color, white);\n",
       "                }\n",
       "\n",
       "                .geemap-colab .jupyter-button {\n",
       "                    --jp-layout-color3: var(--colab-primary-surface-color, white);\n",
       "                }\n",
       "            </style>\n",
       "            "
      ],
      "text/plain": [
       "<IPython.core.display.HTML object>"
      ]
     },
     "metadata": {},
     "output_type": "display_data"
    }
   ],
   "source": [
    "# Select the first image from the ImageCollection, clip it to the AOI, and only store the \"VV\" band\n",
    "S1_image = S1_data.first().clip(AOI).select('VV')\n",
    "\n",
    "# Make a binary mask (0 and 1) based on a threshold\n",
    "shipMask = S1_image.gt(0)"
   ]
  },
  {
   "cell_type": "markdown",
   "id": "1c0bb63f-cb41-46e8-9af6-553945906aba",
   "metadata": {},
   "source": [
    "Let's visualize both the SAR image and the binary ship mask. Check whether all the detected \"ships\" are really ships. Where can you see false positives and what could be a reason? How could you improve the result?"
   ]
  },
  {
   "cell_type": "code",
   "execution_count": 20,
   "id": "694635e9-fe39-4cae-ac7f-4b76dd060de0",
   "metadata": {},
   "outputs": [
    {
     "data": {
      "text/html": [
       "\n",
       "            <style>\n",
       "                .geemap-dark {\n",
       "                    --jp-widgets-color: white;\n",
       "                    --jp-widgets-label-color: white;\n",
       "                    --jp-ui-font-color1: white;\n",
       "                    --jp-layout-color2: #454545;\n",
       "                    background-color: #383838;\n",
       "                }\n",
       "\n",
       "                .geemap-dark .jupyter-button {\n",
       "                    --jp-layout-color3: #383838;\n",
       "                }\n",
       "\n",
       "                .geemap-colab {\n",
       "                    background-color: var(--colab-primary-surface-color, white);\n",
       "                }\n",
       "\n",
       "                .geemap-colab .jupyter-button {\n",
       "                    --jp-layout-color3: var(--colab-primary-surface-color, white);\n",
       "                }\n",
       "            </style>\n",
       "            "
      ],
      "text/plain": [
       "<IPython.core.display.HTML object>"
      ]
     },
     "metadata": {},
     "output_type": "display_data"
    },
    {
     "data": {
      "application/vnd.jupyter.widget-view+json": {
       "model_id": "f1e83f2b254d47d1865cac8238a535f7",
       "version_major": 2,
       "version_minor": 0
      },
      "text/plain": [
       "Map(center=[8.897607, -79.529382], controls=(WidgetControl(options=['position', 'transparent_bg'], widget=Sear…"
      ]
     },
     "execution_count": 20,
     "metadata": {},
     "output_type": "execute_result"
    }
   ],
   "source": [
    "# Initialize the map\n",
    "Map = geemap.Map()\n",
    "\n",
    "# Define how the basemap should be displayed\n",
    "Map.set_center(-79.529382, 8.897607, 11) # coordinates and zoom\n",
    "Map.add_basemap('SATELLITE')             # background map as optical true color image\n",
    "\n",
    "# Define the visualization parameters for the AOI, such as color (as hex-code)\n",
    "vis_params = {'color': 'FFD700',\n",
    "              'pointSize': 3,\n",
    "              'pointShape': 'circle',\n",
    "              'width': 2,\n",
    "              'lineType': 'solid',\n",
    "              'lineType': 'solid'}\n",
    "\n",
    "# Define the visualization parameters for the binary ship mask\n",
    "ship_vis_params = {\n",
    "    'min': 0,\n",
    "    'max': 1,\n",
    "    'palette': ['00000000', 'FF0000'] # from transparent to red\n",
    "}\n",
    "\n",
    "# Add the Sentinel-1 image we used for the ship detection\n",
    "Map.addLayer(S1_image, {'bands': ['VV']}, 'SAR')\n",
    "\n",
    "# Add the AOI and the ship mask as layers\n",
    "Map.addLayer(AOI, vis_params, 'Area of interest')\n",
    "Map.addLayer(shipMask, ship_vis_params, 'Detected Ships')\n",
    "\n",
    "# Display the map\n",
    "Map"
   ]
  },
  {
   "cell_type": "markdown",
   "id": "ebad874b-a6b4-42df-aeef-344cf8fdd33b",
   "metadata": {},
   "source": [
    "---"
   ]
  },
  {
   "cell_type": "markdown",
   "id": "ef1c4047-05f2-4018-80b6-10a034d4caa1",
   "metadata": {},
   "source": [
    "### Count the number of ships"
   ]
  },
  {
   "cell_type": "markdown",
   "id": "c4aac90d-1a35-4a5e-adf3-6c2d4a8462e8",
   "metadata": {},
   "source": [
    "If we want to count the number of detected ships we first have to connect the positive pixels from the ship mask to bigger \"ship-objects\", otherwise we would just count the number of pixels with values of 1.\n",
    "\n",
    "- With the \"connectedComponents\" function, we can aggregate multiple pixels into one object/ship. The kernel defines how far apart pixels can be to still be considered connected. A kernel of radius 1 is a 3x3 pixel search area. If \"ship-pixels\" are further apart, they will be considered separate objects.<br>\n",
    "- To count the number of detected ship-objects, we use the .count() reducer and our defined AOI. This will create a new FeatureCollection with each detected polygon representing one single detected Feature. Using .size() we can get the number of Features in the Collection."
   ]
  },
  {
   "cell_type": "code",
   "execution_count": 39,
   "id": "ebf9c402-2ad3-47bc-85d0-f2a4473dd202",
   "metadata": {},
   "outputs": [
    {
     "data": {
      "text/html": [
       "\n",
       "            <style>\n",
       "                .geemap-dark {\n",
       "                    --jp-widgets-color: white;\n",
       "                    --jp-widgets-label-color: white;\n",
       "                    --jp-ui-font-color1: white;\n",
       "                    --jp-layout-color2: #454545;\n",
       "                    background-color: #383838;\n",
       "                }\n",
       "\n",
       "                .geemap-dark .jupyter-button {\n",
       "                    --jp-layout-color3: #383838;\n",
       "                }\n",
       "\n",
       "                .geemap-colab {\n",
       "                    background-color: var(--colab-primary-surface-color, white);\n",
       "                }\n",
       "\n",
       "                .geemap-colab .jupyter-button {\n",
       "                    --jp-layout-color3: var(--colab-primary-surface-color, white);\n",
       "                }\n",
       "            </style>\n",
       "            "
      ],
      "text/plain": [
       "<IPython.core.display.HTML object>"
      ]
     },
     "metadata": {},
     "output_type": "display_data"
    },
    {
     "name": "stdout",
     "output_type": "stream",
     "text": [
      "Number of ship-objects detected: 1813\n"
     ]
    }
   ],
   "source": [
    "# Connect the \"1-pixels\" from the ship mask to bigger objects\n",
    "shipObjects = shipMask.connectedComponents(\n",
    "    maxSize = 1024,\n",
    "    connectedness = ee.Kernel.square(radius=1))\n",
    "\n",
    "# Generate a FeatureCollection with all the ship-objects in the defined AOI\n",
    "shipCount = shipObjects.reduceToVectors(\n",
    "    reducer = ee.Reducer.count(),\n",
    "    geometry = AOI,\n",
    "    scale = 10,\n",
    "    maxPixels = 1e13)\n",
    "\n",
    "# Use .size() to get the number of ships\n",
    "print('Number of ship-objects detected:', shipCount.size().getInfo())"
   ]
  },
  {
   "cell_type": "markdown",
   "id": "52b863dd-7f75-4081-916d-405e2174d912",
   "metadata": {},
   "source": [
    "As you can see the number of ships is probably too hight (1813). But this is also due to the false positives detected in the area of the islands. How could you reduce the number of flasly detected ship objects? Or make it more likely that the detected objects are actually ships?"
   ]
  },
  {
   "cell_type": "markdown",
   "id": "20f037c7-73fe-420e-b3da-eb5176c2f6ed",
   "metadata": {},
   "source": [
    "---"
   ]
  },
  {
   "cell_type": "markdown",
   "id": "5ff0850c-b168-450e-9a16-a1f0d0f4b062",
   "metadata": {},
   "source": [
    "*Literature*<br>\n",
    "$^{[1]}$: https://www.carbonbrief.org/drought-behind-panama-canals-2023-shipping-disruption-unlikely-without-el-nino/<br>"
   ]
  }
 ],
 "metadata": {
  "kernelspec": {
   "display_name": "Python 3 (ipykernel)",
   "language": "python",
   "name": "python3"
  },
  "language_info": {
   "codemirror_mode": {
    "name": "ipython",
    "version": 3
   },
   "file_extension": ".py",
   "mimetype": "text/x-python",
   "name": "python",
   "nbconvert_exporter": "python",
   "pygments_lexer": "ipython3",
   "version": "3.13.3"
  }
 },
 "nbformat": 4,
 "nbformat_minor": 5
}

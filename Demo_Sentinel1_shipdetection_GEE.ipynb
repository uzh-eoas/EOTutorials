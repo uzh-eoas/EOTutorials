{
 "cells": [
  {
   "cell_type": "markdown",
   "id": "74b66c098f0fbe0",
   "metadata": {},
   "source": [
    "# Sentinel-1 ship detection using Google Earth Engine"
   ]
  },
  {
   "cell_type": "markdown",
   "id": "466acf369d20bf0b",
   "metadata": {},
   "source": [
    "This tutorial uses Sentinel-2 SAR imagery to detect ships in the port of Panama City waiting to use the Panama Canal.\n",
    "\n",
    "It uses the Google Earth Engine (GEE) API package for python. This allows to compute large amount of satellite (and other remote sensing) data without having to download the huge data sets. To be able to use this package a GEE account is required."
   ]
  },
  {
   "cell_type": "markdown",
   "id": "1afc86c5bf9f3ef0",
   "metadata": {},
   "source": [
    "### Start a GEE session"
   ]
  },
  {
   "cell_type": "markdown",
   "id": "3102fa551d107905",
   "metadata": {},
   "source": [
    "The first time the \"ee\" package is used, you need to run ee.Authenticate(). This will open a window on the web where you have to log in with your GEE credentials. This will create an access token that needs to be pasted in the box that appeared below (this needs to be done at the beginning or when the kernel/session is restarted). To start the connection with your GEE account, you run ee.Initialize(). If you have only one project on your GEE account, you do not need to specify more. If you have multiple projects, you can specify with ee.Initialize(project=project-number). To find the project number, you have to log in to GEE online and click on the respective project."
   ]
  },
  {
   "cell_type": "code",
   "execution_count": 2,
   "id": "8e44ef526b357ffd",
   "metadata": {
    "jupyter": {
     "is_executing": true
    }
   },
   "outputs": [
    {
     "data": {
      "text/html": [
       "\n",
       "            <style>\n",
       "                .geemap-dark {\n",
       "                    --jp-widgets-color: white;\n",
       "                    --jp-widgets-label-color: white;\n",
       "                    --jp-ui-font-color1: white;\n",
       "                    --jp-layout-color2: #454545;\n",
       "                    background-color: #383838;\n",
       "                }\n",
       "\n",
       "                .geemap-dark .jupyter-button {\n",
       "                    --jp-layout-color3: #383838;\n",
       "                }\n",
       "\n",
       "                .geemap-colab {\n",
       "                    background-color: var(--colab-primary-surface-color, white);\n",
       "                }\n",
       "\n",
       "                .geemap-colab .jupyter-button {\n",
       "                    --jp-layout-color3: var(--colab-primary-surface-color, white);\n",
       "                }\n",
       "            </style>\n",
       "            "
      ],
      "text/plain": [
       "<IPython.core.display.HTML object>"
      ]
     },
     "metadata": {},
     "output_type": "display_data"
    }
   ],
   "source": [
    "# Load the packages\n",
    "import ee       # GEE API package\n",
    "import geemap   # package for interactive plotting->does not work on PyCharm\n",
    "\n",
    "# Login with the GEE credentials and connect to your account\n",
    "ee.Authenticate()   # needs to be done once in a while\n",
    "ee.Initialize()     # starts the connection to your GEE account and allows you to use all the datasets you might have stored there"
   ]
  },
  {
   "cell_type": "markdown",
   "id": "88bdc7df-b49f-4fe8-9548-7aefbd4babcb",
   "metadata": {},
   "source": [
    "### Select the area of interest"
   ]
  },
  {
   "cell_type": "markdown",
   "id": "7ad338d5-2a3a-4987-b4ce-c3100ae46a34",
   "metadata": {},
   "source": [
    "We select a polygon at the port of Panama City. As we only want to detect the ships and not built up areas we should make sure to only select area in the ocean."
   ]
  },
  {
   "cell_type": "code",
   "execution_count": 3,
   "id": "766c431c-904e-4198-a85a-05df3dcad26f",
   "metadata": {},
   "outputs": [
    {
     "data": {
      "text/html": [
       "\n",
       "            <style>\n",
       "                .geemap-dark {\n",
       "                    --jp-widgets-color: white;\n",
       "                    --jp-widgets-label-color: white;\n",
       "                    --jp-ui-font-color1: white;\n",
       "                    --jp-layout-color2: #454545;\n",
       "                    background-color: #383838;\n",
       "                }\n",
       "\n",
       "                .geemap-dark .jupyter-button {\n",
       "                    --jp-layout-color3: #383838;\n",
       "                }\n",
       "\n",
       "                .geemap-colab {\n",
       "                    background-color: var(--colab-primary-surface-color, white);\n",
       "                }\n",
       "\n",
       "                .geemap-colab .jupyter-button {\n",
       "                    --jp-layout-color3: var(--colab-primary-surface-color, white);\n",
       "                }\n",
       "            </style>\n",
       "            "
      ],
      "text/plain": [
       "<IPython.core.display.HTML object>"
      ]
     },
     "metadata": {},
     "output_type": "display_data"
    }
   ],
   "source": [
    "# Area of interest polygon at the port in Panama City\n",
    "AOI = ee.Geometry.Polygon([[-79.5318588873829,8.929408571356298],[-79.57855078191415,8.87378180348808],\n",
    "                           [-79.67330786199227,8.839180410557434],[-79.69734045476571,8.784218582482216],\n",
    "                           [-79.56893774480477,8.701421206774654],[-79.37155075269101,8.7502874576597],\n",
    "                           [-79.36262436108944,8.833073944690653],[-79.39077682690976,8.913128442052326],\n",
    "                           [-79.49034042554257,8.957897048024819],[-79.52055282788632,8.943653088344814],\n",
    "                           [-79.5318588873829,8.929408571356298]])"
   ]
  },
  {
   "cell_type": "markdown",
   "id": "5f88eb78-7930-4789-bbde-1b818e969398",
   "metadata": {},
   "source": [
    "Let's visualize the general area of interest at the entry to the Panama Canal (as a true color optical satellite image) and the polygone we just defined in yellow. You will notice that there are some small islands within the selected AOI (this will have an influence later on)."
   ]
  },
  {
   "cell_type": "code",
   "execution_count": 4,
   "id": "c2254bc8-9ecd-431c-8b2f-e40f1b6b0049",
   "metadata": {},
   "outputs": [
    {
     "data": {
      "text/html": [
       "\n",
       "            <style>\n",
       "                .geemap-dark {\n",
       "                    --jp-widgets-color: white;\n",
       "                    --jp-widgets-label-color: white;\n",
       "                    --jp-ui-font-color1: white;\n",
       "                    --jp-layout-color2: #454545;\n",
       "                    background-color: #383838;\n",
       "                }\n",
       "\n",
       "                .geemap-dark .jupyter-button {\n",
       "                    --jp-layout-color3: #383838;\n",
       "                }\n",
       "\n",
       "                .geemap-colab {\n",
       "                    background-color: var(--colab-primary-surface-color, white);\n",
       "                }\n",
       "\n",
       "                .geemap-colab .jupyter-button {\n",
       "                    --jp-layout-color3: var(--colab-primary-surface-color, white);\n",
       "                }\n",
       "            </style>\n",
       "            "
      ],
      "text/plain": [
       "<IPython.core.display.HTML object>"
      ]
     },
     "metadata": {},
     "output_type": "display_data"
    },
    {
     "data": {
      "application/vnd.jupyter.widget-view+json": {
       "model_id": "2a488f6f46f9498e8f2fda64357e6b15",
       "version_major": 2,
       "version_minor": 0
      },
      "text/plain": [
       "Map(center=[8.897607, -79.529382], controls=(WidgetControl(options=['position', 'transparent_bg'], widget=Sear…"
      ]
     },
     "execution_count": 4,
     "metadata": {},
     "output_type": "execute_result"
    }
   ],
   "source": [
    "# Initialize the map\n",
    "Map = geemap.Map()\n",
    "\n",
    "# Define how the basemap should be displayed\n",
    "Map.set_center(-79.529382, 8.897607, 11) # coordinates and zoom\n",
    "Map.add_basemap('SATELLITE')             # background map as optical true color image\n",
    "\n",
    "# Define the visualization parameters for the AOI, such as color (as hex-code)\n",
    "vis_params = {'color': 'FFD700',\n",
    "              'pointSize': 3,\n",
    "              'pointShape': 'circle',\n",
    "              'width': 2,\n",
    "              'lineType': 'solid',\n",
    "              'lineType': 'solid'}\n",
    "\n",
    "# Add the area of interest as a polygon to the map\n",
    "Map.addLayer(AOI, vis_params, 'Area of interest')\n",
    "\n",
    "# Display the map\n",
    "Map"
   ]
  },
  {
   "cell_type": "markdown",
   "id": "4dfeb7c2-876c-4cb8-b7dc-784cf201944a",
   "metadata": {},
   "source": [
    "---"
   ]
  },
  {
   "cell_type": "markdown",
   "id": "0554ac0e-223e-4231-81fb-f9f5eca217d2",
   "metadata": {},
   "source": [
    "### Select the data"
   ]
  },
  {
   "cell_type": "markdown",
   "id": "2d907a7f-cc8f-4142-9069-bd3703234270",
   "metadata": {},
   "source": [
    "During the second half of 2023, the Panama Canal area had historically low rainfall. Due to the drought, the water level in the Canal was a lot lower and fewer ships could pass. Therefore, many ships had to wait in front of the entry in Panama City$^{[1]}$. This makes this event a good use case to detect many ships in one image. \n",
    "- We select August 2023 as our study period<br>\n",
    "- We load the Sentinel-1 SAR ImageCollection \"S1_GRD\"<br>\n",
    "- We filter to use the VV polarization band. In the polarization mode, the ships act as strong reflectors of the signal (white in the image) while the flat surface of the water acts as a mirror, reflecting the signal away from the sensor (black in the image).<br> \n",
    "- We use the Interferometric Wide (IW) swath mode, which is the primary mode from Sentinel-1. Due to the wide swath, it is well suited to monitor large areas.<br>\n",
    "- Then we filter by the dates we defined and the AOI polygon"
   ]
  },
  {
   "cell_type": "code",
   "execution_count": null,
   "id": "6c7d2956-1c56-4a42-b3fa-725d28ca1cb3",
   "metadata": {},
   "outputs": [],
   "source": [
    "# Define study period\n",
    "startTime = '2023-08-01'\n",
    "endTime = '2023-08-31'\n",
    "\n",
    "# Filter the Sentinel-1 ImageCollection by polarisation, instrument mode, date, and area of interest\n",
    "S1_data = ee.ImageCollection('COPERNICUS/S1_GRD')\\\n",
    "    .filter(ee.Filter.listContains('transmitterReceiverPolarisation', 'VV'))\\\n",
    "    .filter(ee.Filter.eq('instrumentMode', 'IW'))\\\n",
    "    .filter(ee.Filter.date(startTime, endTime))\\\n",
    "    .filter(ee.Filter.bounds(AOI))\n",
    "\n",
    "# Display the number of images available with our filter criteria\n",
    "print('Number of images in study period:', S1_data.size().getInfo())"
   ]
  },
  {
   "cell_type": "markdown",
   "id": "3f546986-0199-4505-9be6-5ae1cb64fda0",
   "metadata": {},
   "source": [
    "Inspecting the filtered ImageCollection we see that 4 images are available with our fitler specifications on two different days. One image in the morning and one in the evening. As Sentinel-1 is an active satellite it does not rely on the sunight and can also map the Earth in the dark/with clouds etc.  "
   ]
  },
  {
   "cell_type": "code",
   "execution_count": null,
   "id": "01d9312e-cbc0-4cd8-92b2-fe957a41c604",
   "metadata": {},
   "outputs": [],
   "source": [
    "S1_data"
   ]
  },
  {
   "cell_type": "markdown",
   "id": "498e8889-2b23-477a-b657-04ad18516675",
   "metadata": {},
   "source": [
    "---"
   ]
  },
  {
   "cell_type": "markdown",
   "id": "9ba160a7-a925-4e79-ab96-f8be7c4f5946",
   "metadata": {},
   "source": [
    "### Generate a ship mask layer"
   ]
  },
  {
   "cell_type": "markdown",
   "id": "ef12c2f9-821a-4210-bd9e-b7477f9029f0",
   "metadata": {},
   "source": [
    "First, we select one image from the ImageCollection (select the first using \"first\"). Then, we clip it to our AOI polygon (we cut away everything outside the AOI). Last, we only want to store the \"VV\" band as we need that for the ship detection. To generate the ship mask we use a simple threshold approach. As mentioned above ships have a very high backscatter signal in the SAR image compared to the low background values of the water. Therefore, we can use a threshold value of zero for our binary mask where any pixel with a value greater than zero is considered a ship and assigned a value of 1, and all other pixels are assigned a value of 0."
   ]
  },
  {
   "cell_type": "code",
   "execution_count": null,
   "id": "8a0cfbd1-9513-4182-a58c-f0e80bff82c9",
   "metadata": {},
   "outputs": [],
   "source": [
    "# Select the first image from the ImageCollection, clip it to the AOI, and only store the \"VV\" band\n",
    "S1_image = S1_data.first().clip(AOI).select('VV')\n",
    "\n",
    "# Make a binary mask (0 and 1) based on a threshold\n",
    "shipMask = S1_image.gt(0)"
   ]
  },
  {
   "cell_type": "markdown",
   "id": "1c0bb63f-cb41-46e8-9af6-553945906aba",
   "metadata": {},
   "source": [
    "Let's visualize both the SAR image and the binary ship mask. Check whether all the detected \"ships\" are really ships. Where can you see false positives and what could be a reason? How could you improve the result?"
   ]
  },
  {
   "cell_type": "code",
   "execution_count": null,
   "id": "694635e9-fe39-4cae-ac7f-4b76dd060de0",
   "metadata": {},
   "outputs": [],
   "source": [
    "# Initialize the map\n",
    "Map = geemap.Map()\n",
    "\n",
    "# Define how the basemap should be displayed\n",
    "Map.set_center(-79.529382, 8.897607, 11) # coordinates and zoom\n",
    "Map.add_basemap('SATELLITE')             # background map as optical true color image\n",
    "\n",
    "# Define the visualization parameters for the AOI, such as color (as hex-code)\n",
    "vis_params = {'color': 'FFD700',\n",
    "              'pointSize': 3,\n",
    "              'pointShape': 'circle',\n",
    "              'width': 2,\n",
    "              'lineType': 'solid',\n",
    "              'lineType': 'solid'}\n",
    "\n",
    "# Define the visualization parameters for the binary ship mask\n",
    "ship_vis_params = {\n",
    "    'min': 0,\n",
    "    'max': 1,\n",
    "    'palette': ['00000000', 'FF0000'] # from transparent to red\n",
    "}\n",
    "\n",
    "# Add the Sentinel-1 image we used for the ship detection\n",
    "Map.addLayer(S1_image, {'bands': ['VV']}, 'SAR')\n",
    "\n",
    "# Add the AOI and the ship mask as layers\n",
    "Map.addLayer(AOI, vis_params, 'Area of interest')\n",
    "Map.addLayer(shipMask, ship_vis_params, 'Detected Ships')\n",
    "\n",
    "# Display the map\n",
    "Map"
   ]
  },
  {
   "cell_type": "markdown",
   "id": "ebad874b-a6b4-42df-aeef-344cf8fdd33b",
   "metadata": {},
   "source": [
    "---"
   ]
  },
  {
   "cell_type": "markdown",
   "id": "ef1c4047-05f2-4018-80b6-10a034d4caa1",
   "metadata": {},
   "source": [
    "### Count the number of ships"
   ]
  },
  {
   "cell_type": "markdown",
   "id": "c4aac90d-1a35-4a5e-adf3-6c2d4a8462e8",
   "metadata": {},
   "source": [
    "If we want to count the number of detected ships we first have to connect the positive pixels from the ship mask to bigger \"ship-objects\", otherwise we would just count the number of pixels with values of 1.\n",
    "\n",
    "- With the \"connectedComponents\" function, we can aggregate multiple pixels into one object/ship. The kernel defines how far apart pixels can be to still be considered connected. A kernel of radius 1 is a 3x3 pixel search area. If \"ship-pixels\" are further apart, they will be considered separate objects.<br>\n",
    "- To count the number of detected ship-objects, we use the .count() reducer and our defined AOI. This will create a new FeatureCollection with each detected polygon representing one single detected Feature. Using .size() we can get the number of Features in the Collection."
   ]
  },
  {
   "cell_type": "code",
   "execution_count": null,
   "id": "ebf9c402-2ad3-47bc-85d0-f2a4473dd202",
   "metadata": {},
   "outputs": [],
   "source": [
    "# Connect the \"1-pixels\" from the ship mask to bigger objects\n",
    "shipObjects = shipMask.connectedComponents(\n",
    "    maxSize = 1024,\n",
    "    connectedness = ee.Kernel.square(radius=1))\n",
    "\n",
    "# Generate a FeatureCollection with all the ship-objects in the defined AOI\n",
    "shipCount = shipObjects.reduceToVectors(\n",
    "    reducer = ee.Reducer.count(),\n",
    "    geometry = AOI,\n",
    "    scale = 10,\n",
    "    maxPixels = 1e13)\n",
    "\n",
    "# Use .size() to get the number of ships\n",
    "print('Number of ship-objects detected:', shipCount.size().getInfo())"
   ]
  },
  {
   "cell_type": "markdown",
   "id": "52b863dd-7f75-4081-916d-405e2174d912",
   "metadata": {},
   "source": [
    "As you can see the number of ships is probably too hight (1813). But this is also due to the false positives detected in the area of the islands. How could you reduce the number of flasly detected ship objects? Or make it more likely that the detected objects are actually ships?"
   ]
  },
  {
   "cell_type": "markdown",
   "id": "20f037c7-73fe-420e-b3da-eb5176c2f6ed",
   "metadata": {},
   "source": [
    "---"
   ]
  },
  {
   "cell_type": "markdown",
   "id": "5ff0850c-b168-450e-9a16-a1f0d0f4b062",
   "metadata": {},
   "source": [
    "*Literature*<br>\n",
    "$^{[1]}$: https://www.carbonbrief.org/drought-behind-panama-canals-2023-shipping-disruption-unlikely-without-el-nino/<br>"
   ]
  }
 ],
 "metadata": {
  "kernelspec": {
   "display_name": "Python 3 (ipykernel)",
   "language": "python",
   "name": "python3"
  },
  "language_info": {
   "codemirror_mode": {
    "name": "ipython",
    "version": 3
   },
   "file_extension": ".py",
   "mimetype": "text/x-python",
   "name": "python",
   "nbconvert_exporter": "python",
   "pygments_lexer": "ipython3",
   "version": "3.13.3"
  }
 },
 "nbformat": 4,
 "nbformat_minor": 5
}

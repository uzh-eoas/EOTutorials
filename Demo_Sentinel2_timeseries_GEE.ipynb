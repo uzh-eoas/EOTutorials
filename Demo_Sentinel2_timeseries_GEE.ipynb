{
 "cells": [
  {
   "cell_type": "markdown",
   "id": "62f800f8-9830-44d0-81ab-d8a90075cab4",
   "metadata": {},
   "source": [
    "# Sentinel-2 NDVI timeseries using Google Earth Engine"
   ]
  },
  {
   "cell_type": "markdown",
   "id": "fc6b36ca-8156-400d-96e2-b137fc7c3c31",
   "metadata": {},
   "source": [
    "This demo gives an overview of calculating a time series of spectral indices using Sentinel-2 data. It uses the Google Earth Engine (GEE) API package for python. This allows to compute large amount of satellite (and other remote sensing) data without having to download the huge data sets. To be able to use this package a GEE account is required."
   ]
  },
  {
   "cell_type": "markdown",
   "id": "ce170225-7d75-49f4-8d8a-719de141096a",
   "metadata": {},
   "source": [
    "### Start a GEE session"
   ]
  },
  {
   "cell_type": "markdown",
   "id": "49cd8ca2-c318-45a7-8163-511feffbb5f0",
   "metadata": {},
   "source": [
    "The first time the \"ee\" package is used, you need to run ee.Authenticate(). This will open a window on the web where you have to log in with your GEE credentials. This will create an access token that needs to be pasted in the box that appeared below (this needs to be done at the beginning or when the kernel/session is restarted). To start the connection with your GEE account, you run ee.Initialize(). If you have only one project on your GEE account, you do not need to specify more. If you have multiple projects, you can specify with ee.Initialize(project=project-number). To find the project number, you have to log in to GEE online and click on the respective project."
   ]
  },
  {
   "cell_type": "code",
   "execution_count": 34,
   "id": "72634eff-7719-4978-9164-8130164ad70d",
   "metadata": {},
   "outputs": [
    {
     "data": {
      "text/html": [
       "\n",
       "            <style>\n",
       "                .geemap-dark {\n",
       "                    --jp-widgets-color: white;\n",
       "                    --jp-widgets-label-color: white;\n",
       "                    --jp-ui-font-color1: white;\n",
       "                    --jp-layout-color2: #454545;\n",
       "                    background-color: #383838;\n",
       "                }\n",
       "\n",
       "                .geemap-dark .jupyter-button {\n",
       "                    --jp-layout-color3: #383838;\n",
       "                }\n",
       "\n",
       "                .geemap-colab {\n",
       "                    background-color: var(--colab-primary-surface-color, white);\n",
       "                }\n",
       "\n",
       "                .geemap-colab .jupyter-button {\n",
       "                    --jp-layout-color3: var(--colab-primary-surface-color, white);\n",
       "                }\n",
       "            </style>\n",
       "            "
      ],
      "text/plain": [
       "<IPython.core.display.HTML object>"
      ]
     },
     "metadata": {},
     "output_type": "display_data"
    }
   ],
   "source": [
    "# Load the packages\n",
    "import ee       # GEE API package\n",
    "import geemap   # package for interactive plotting->does not work on PyCharm\n",
    "\n",
    "# Login with the GEE credentials and connect to your account\n",
    "ee.Authenticate()   # needs to be done once in a while\n",
    "ee.Initialize()     # starts the connection to your GEE account and allows you to use all the datasets you might have stored there"
   ]
  },
  {
   "cell_type": "markdown",
   "id": "3024eb04-4f52-4fd2-a22b-127324cbf2fa",
   "metadata": {},
   "source": [
    "---"
   ]
  },
  {
   "cell_type": "markdown",
   "id": "20017fea-c8ac-47bc-b006-b4c7de3430c3",
   "metadata": {},
   "source": [
    "### Define the study areas"
   ]
  },
  {
   "cell_type": "markdown",
   "id": "ef61cc52-f8e5-4822-9934-3cb4e1197d32",
   "metadata": {},
   "source": [
    "For the NDVI time series, we select two different forest types (deciduous broadleaf: \"db\", evergreen coniferous: \"ec\") and an agricultural area: \"agr\" in Switzerland. For each site, we define one point with coordinates and use a buffer to get a circular area of interest. "
   ]
  },
  {
   "cell_type": "code",
   "execution_count": 35,
   "id": "5ad306de-d5ca-4aa8-9e61-ec0ec4b14e9b",
   "metadata": {
    "scrolled": true
   },
   "outputs": [
    {
     "data": {
      "text/html": [
       "\n",
       "            <style>\n",
       "                .geemap-dark {\n",
       "                    --jp-widgets-color: white;\n",
       "                    --jp-widgets-label-color: white;\n",
       "                    --jp-ui-font-color1: white;\n",
       "                    --jp-layout-color2: #454545;\n",
       "                    background-color: #383838;\n",
       "                }\n",
       "\n",
       "                .geemap-dark .jupyter-button {\n",
       "                    --jp-layout-color3: #383838;\n",
       "                }\n",
       "\n",
       "                .geemap-colab {\n",
       "                    background-color: var(--colab-primary-surface-color, white);\n",
       "                }\n",
       "\n",
       "                .geemap-colab .jupyter-button {\n",
       "                    --jp-layout-color3: var(--colab-primary-surface-color, white);\n",
       "                }\n",
       "            </style>\n",
       "            "
      ],
      "text/plain": [
       "<IPython.core.display.HTML object>"
      ]
     },
     "metadata": {},
     "output_type": "display_data"
    }
   ],
   "source": [
    "# Define the points for each of the AOIs\n",
    "point_db = ee.Geometry.Point([8.3634171, 47.4788405])\n",
    "point_ec = ee.Geometry.Point([9.85509283, 46.81539482])\n",
    "point_agr = ee.Geometry.Point([7.733592499218185, 47.286134852362366])\n",
    "\n",
    "# Apply a buffer around the defined points. The \"buffer number\" is the radius of the circle in meters.\n",
    "aoi_db = point_db.buffer(30)\n",
    "aoi_ec = point_ec.buffer(30)\n",
    "aoi_agr = point_agr.buffer(15) # a smaller AOI for the agricultural area to make sure only the field is in the AOI"
   ]
  },
  {
   "cell_type": "markdown",
   "id": "4f3daef4-cd5c-490d-afb6-0a4e6d557326",
   "metadata": {},
   "source": [
    "We can visualize the three areas on a map. The three AOIs are situated where the University of Zürich (and other institutions) have in situ instrumentation: Laegern near Zurich and Baden (deciduous broadleaf), Davos (evergreen coniferous), and Oensingen (agriculture)."
   ]
  },
  {
   "cell_type": "code",
   "execution_count": null,
   "id": "a2688c9a-672a-4155-8046-4ce8f3d9ab24",
   "metadata": {},
   "outputs": [],
   "source": [
    "# Initialize the map\n",
    "Map = geemap.Map()\n",
    "\n",
    "# Define how the basemap should be displayed\n",
    "Map.set_center(9.85, 46.82, 13) # coordinates and zoom\n",
    "Map.add_basemap('TERRAIN')      # can also be \"SATELLITE\" \n",
    "\n",
    "# Define the visualization parameters for the AOI, such as color (as hex-code)\n",
    "vis_params = {'color': '#d515c5',\n",
    "              'pointSize': 3,\n",
    "              'pointShape': 'circle',\n",
    "              'width': 2,\n",
    "              'lineType': 'solid',\n",
    "              'lineType': 'solid'}\n",
    "\n",
    "# Add the area of interests as polygons to the map\n",
    "Map.addLayer(aoi_db, vis_params, 'db')\n",
    "Map.addLayer(aoi_ec, vis_params, 'ec')\n",
    "Map.addLayer(aoi_agr, vis_params, 'agr')\n",
    "\n",
    "# Display the map\n",
    "Map"
   ]
  },
  {
   "cell_type": "markdown",
   "id": "c19e3bd6-19fe-42b1-aef2-aaa5f5b83073",
   "metadata": {},
   "source": [
    "---"
   ]
  },
  {
   "cell_type": "markdown",
   "id": "95093066-a14a-4444-8f86-f9070926f223",
   "metadata": {},
   "source": [
    "### Data selection"
   ]
  },
  {
   "cell_type": "markdown",
   "id": "88411650-389b-4c36-8ba9-7d3433b8a7b0",
   "metadata": {},
   "source": [
    "We will work with the Sentinel-2 L2A Bottom-of-Atmosphere reflectance data ImageCollection, as well as the cloud score + ImageCollection for cloud masking. This is an important step to select only valid pixels in the available Sentinel-2 images for the time series analysis. We filter the two Collections by date (e.g., 1 year) and the respective AOIs and add bands from the cloud score + Collection to the Sentinel-2 ImageCollection (by using \"linkCollection\"). We can then display the number of available images for the respective AOIs in the selected time frame. E.g., during 2024, twice as many images are available for Laegern and Oensingen (Swiss Mittelland) as for Davos (Swiss Alps)."
   ]
  },
  {
   "cell_type": "code",
   "execution_count": 36,
   "id": "b83f35ab-877e-4532-ba35-a7aefbe8a2ae",
   "metadata": {},
   "outputs": [
    {
     "data": {
      "text/html": [
       "\n",
       "            <style>\n",
       "                .geemap-dark {\n",
       "                    --jp-widgets-color: white;\n",
       "                    --jp-widgets-label-color: white;\n",
       "                    --jp-ui-font-color1: white;\n",
       "                    --jp-layout-color2: #454545;\n",
       "                    background-color: #383838;\n",
       "                }\n",
       "\n",
       "                .geemap-dark .jupyter-button {\n",
       "                    --jp-layout-color3: #383838;\n",
       "                }\n",
       "\n",
       "                .geemap-colab {\n",
       "                    background-color: var(--colab-primary-surface-color, white);\n",
       "                }\n",
       "\n",
       "                .geemap-colab .jupyter-button {\n",
       "                    --jp-layout-color3: var(--colab-primary-surface-color, white);\n",
       "                }\n",
       "            </style>\n",
       "            "
      ],
      "text/plain": [
       "<IPython.core.display.HTML object>"
      ]
     },
     "metadata": {},
     "output_type": "display_data"
    },
    {
     "name": "stdout",
     "output_type": "stream",
     "text": [
      "Number of images in study period for Laegern: 146\n",
      "Number of images in study period for Davos: 73\n",
      "Number of images in study period for Oensingen: 144\n"
     ]
    }
   ],
   "source": [
    "# Define the study period\n",
    "startTime = '2024-01-01'\n",
    "endTime = '2024-12-31' \n",
    "\n",
    "#-------------------------\n",
    "# AOI deciduous broadleaf:\n",
    "#-------------------------\n",
    "# Filter the Sentinel-2 cloud score+ (for cloud filtering) by date and AOI\n",
    "db_csp = ee.ImageCollection('GOOGLE/CLOUD_SCORE_PLUS/V1/S2_HARMONIZED')\\\n",
    "    .filter(ee.Filter.bounds(aoi_db))\\\n",
    "    .filter(ee.Filter.date(startTime, endTime))\n",
    "\n",
    "# Add the cloud score+ bands \"cs_cdf\" and \"cs\" to the filtered Sentinel-2 image collection\n",
    "db_S2= ee.ImageCollection('COPERNICUS/S2_SR_HARMONIZED')\\\n",
    "    .filter(ee.Filter.bounds(aoi_db))\\\n",
    "    .filter(ee.Filter.date(startTime, endTime))\\\n",
    "    .linkCollection(db_csp, ['cs_cdf','cs'])\n",
    "\n",
    "#-------------------------\n",
    "# AOI evergreen coniferous:\n",
    "#-------------------------\n",
    "# Filter the Sentinel-2 cloud score+ (for cloud filtering) by date and AOI\n",
    "ec_csp = ee.ImageCollection('GOOGLE/CLOUD_SCORE_PLUS/V1/S2_HARMONIZED')\\\n",
    "    .filter(ee.Filter.bounds(aoi_ec))\\\n",
    "    .filter(ee.Filter.date(startTime, endTime))\n",
    "\n",
    "# Add the cloud score+ bands \"cs_cdf\" and \"cs\" to the filtered Sentinel-2 image collection\n",
    "ec_S2= ee.ImageCollection('COPERNICUS/S2_SR_HARMONIZED')\\\n",
    "    .filter(ee.Filter.bounds(aoi_ec))\\\n",
    "    .filter(ee.Filter.date(startTime, endTime))\\\n",
    "    .linkCollection(ec_csp, ['cs_cdf','cs'])\n",
    "\n",
    "#-------------------------\n",
    "# AOI agricultural area:\n",
    "#-------------------------\n",
    "# Filter the Sentinel-2 cloud score+ (for cloud filtering) by date and AOI\n",
    "agr_csp = ee.ImageCollection('GOOGLE/CLOUD_SCORE_PLUS/V1/S2_HARMONIZED')\\\n",
    "    .filter(ee.Filter.bounds(aoi_agr))\\\n",
    "    .filter(ee.Filter.date(startTime, endTime))\n",
    "\n",
    "# Add the cloud score+ bands \"cs_cdf\" and \"cs\" to the filtered Sentinel-2 image collection\n",
    "agr_S2= ee.ImageCollection('COPERNICUS/S2_SR_HARMONIZED')\\\n",
    "    .filter(ee.Filter.bounds(aoi_agr))\\\n",
    "    .filter(ee.Filter.date(startTime, endTime))\\\n",
    "    .linkCollection(agr_csp, ['cs_cdf','cs'])\n",
    "              \n",
    "# Check how many images are in the collection for each AOI\n",
    "print('Number of images in study period for Laegern:', db_S2.size().getInfo())  \n",
    "print('Number of images in study period for Davos:', ec_S2.size().getInfo()) \n",
    "print('Number of images in study period for Oensingen:', agr_S2.size().getInfo()) "
   ]
  },
  {
   "cell_type": "markdown",
   "id": "86a8bde1-af7d-420c-831a-4ca4667b4e46",
   "metadata": {},
   "source": [
    "---"
   ]
  },
  {
   "cell_type": "markdown",
   "id": "5fcc63bd-d027-4fef-94d1-ba9233e903dd",
   "metadata": {},
   "source": [
    "### Cloud and Cloud Shadow Masking"
   ]
  },
  {
   "cell_type": "markdown",
   "id": "6c192401-9e9d-4ab6-a472-400d9c3f4033",
   "metadata": {},
   "source": [
    "We will now define a function for cloud and cloud shadow masking of the Sentinel-2 images, which we will then apply to each of our filtered ImageCollections from the step before. This will mask pixels in the images that are covered by clouds or cloud shadows. Images with all pixels of the AOI masked will still remain in the ImageCollection."
   ]
  },
  {
   "cell_type": "code",
   "execution_count": 37,
   "id": "63da71b1-1b61-4001-addf-283263e8d165",
   "metadata": {},
   "outputs": [
    {
     "data": {
      "text/html": [
       "\n",
       "            <style>\n",
       "                .geemap-dark {\n",
       "                    --jp-widgets-color: white;\n",
       "                    --jp-widgets-label-color: white;\n",
       "                    --jp-ui-font-color1: white;\n",
       "                    --jp-layout-color2: #454545;\n",
       "                    background-color: #383838;\n",
       "                }\n",
       "\n",
       "                .geemap-dark .jupyter-button {\n",
       "                    --jp-layout-color3: #383838;\n",
       "                }\n",
       "\n",
       "                .geemap-colab {\n",
       "                    background-color: var(--colab-primary-surface-color, white);\n",
       "                }\n",
       "\n",
       "                .geemap-colab .jupyter-button {\n",
       "                    --jp-layout-color3: var(--colab-primary-surface-color, white);\n",
       "                }\n",
       "            </style>\n",
       "            "
      ],
      "text/plain": [
       "<IPython.core.display.HTML object>"
      ]
     },
     "metadata": {},
     "output_type": "display_data"
    }
   ],
   "source": [
    "# Define a function to mask clouds and cloud shadows\n",
    "\n",
    "def maskCloudsAndShadows(image):\n",
    "\n",
    "    # get the solar position of each image in the collection\n",
    "    meanAzimuth = image.get('MEAN_SOLAR_AZIMUTH_ANGLE')\n",
    "    meanZenith = image.get('MEAN_SOLAR_ZENITH_ANGLE')\n",
    "\n",
    "    # get the cloud score layer\n",
    "    clouds_csp = image.select('cs_cdf')  # Pixel quality score (0-1): 0 = cloudy, 1 = clear\n",
    "    \n",
    "    # the maximum clear sky probability threshold is set at 60% (change this number to filter more/less images)\n",
    "    cloudMask_csp = clouds_csp.gte(0.6)\n",
    "    \n",
    "    # define potential cloud shadow values\n",
    "    cloudShadowMask_csp = clouds_csp.gte(0.60).And(clouds_csp.lte(0.80))\n",
    "    \n",
    "    # Project shadows from clouds. This step assumes we're working in a UTM projection.\n",
    "    shadowAzimuth = ee.Number(90).subtract(ee.Number(meanAzimuth))\n",
    "    \n",
    "    # shadow distance is tied to the solar zenith angle (minimum shadowDistance is 30 pixel)\n",
    "    shadowDistance = ee.Number(meanZenith).multiply(0.7).floor().int().max(30)\n",
    "    \n",
    "    # With the following algorithm, cloud shadows are projected\n",
    "    isCloud_csp = cloudMask_csp.directionalDistanceTransform(shadowAzimuth, shadowDistance)\n",
    "    isCloud_csp = isCloud_csp.reproject(crs=image.select('B2').projection(), scale=100)\n",
    "    cloudShadow_csp = isCloud_csp.select('distance').mask()\n",
    "    \n",
    "    # combine projectedShadows & darkPixel and buffer the cloud shadow\n",
    "    cloudShadow_csp = cloudShadow_csp.And(cloudShadowMask_csp).focalMax(100, 'circle', 'meters', 1, None)\n",
    "    \n",
    "    # combined mask for clouds and cloud shadows\n",
    "    cloudAndCloudShadowMask_csp = cloudShadow_csp.Or(cloudMask_csp.Not())\n",
    "    \n",
    "    # mask spectral bands for clouds and cloudShadows,\n",
    "    image_out = image.select(['B1','B2','B3','B4','B5','B6','B7','B8','B8A','B9','B11','B12'])\\\n",
    "        .updateMask(cloudAndCloudShadowMask_csp.Not())\n",
    "    \n",
    "    # adding two additional bands: S2 cloud score plus cloud probability and cloudAndCloudShadowMask\n",
    "    image_out = image_out.addBands(clouds_csp.multiply(-1).add(1).rename(['cloudProbability']))\\\n",
    "        .addBands(cloudAndCloudShadowMask_csp.rename(['cloudAndCloudShadowMask']))\n",
    "    \n",
    "    return image_out    "
   ]
  },
  {
   "cell_type": "code",
   "execution_count": 38,
   "id": "e638a3d9-9c83-41ba-8875-5d2c1223ddb2",
   "metadata": {},
   "outputs": [
    {
     "data": {
      "text/html": [
       "\n",
       "            <style>\n",
       "                .geemap-dark {\n",
       "                    --jp-widgets-color: white;\n",
       "                    --jp-widgets-label-color: white;\n",
       "                    --jp-ui-font-color1: white;\n",
       "                    --jp-layout-color2: #454545;\n",
       "                    background-color: #383838;\n",
       "                }\n",
       "\n",
       "                .geemap-dark .jupyter-button {\n",
       "                    --jp-layout-color3: #383838;\n",
       "                }\n",
       "\n",
       "                .geemap-colab {\n",
       "                    background-color: var(--colab-primary-surface-color, white);\n",
       "                }\n",
       "\n",
       "                .geemap-colab .jupyter-button {\n",
       "                    --jp-layout-color3: var(--colab-primary-surface-color, white);\n",
       "                }\n",
       "            </style>\n",
       "            "
      ],
      "text/plain": [
       "<IPython.core.display.HTML object>"
      ]
     },
     "metadata": {},
     "output_type": "display_data"
    }
   ],
   "source": [
    "# Apply the cloud mask function on the ImageCollection for each AOI\n",
    "db_S2_cf = db_S2.map(maskCloudsAndShadows)\n",
    "ec_S2_cf = ec_S2.map(maskCloudsAndShadows)\n",
    "agr_S2_cf = agr_S2.map(maskCloudsAndShadows)"
   ]
  },
  {
   "cell_type": "markdown",
   "id": "cf1f2e87-8692-4721-a5ee-b4ae6a788481",
   "metadata": {},
   "source": [
    "### Filter Images with less then a certain amount if valid (not masked) pixels in the AOI"
   ]
  },
  {
   "cell_type": "markdown",
   "id": "bf10467c-939b-42ac-9fa1-f0b80323cf47",
   "metadata": {},
   "source": [
    "As mentioned above, images remain in the ImageCollection even if all pixels of the AOI are masked out due to clouds. We can use the number of pixels within the respective AOIs to filter images from the Collection that have fewer than a certain number of pixels. For this, we need to count the number of valid pixels in the AOIs in each image of the ImageCollection and then define a threshold."
   ]
  },
  {
   "cell_type": "code",
   "execution_count": 39,
   "id": "a677dc44-df54-4882-8ce8-0df0a3c2b131",
   "metadata": {},
   "outputs": [
    {
     "data": {
      "text/html": [
       "\n",
       "            <style>\n",
       "                .geemap-dark {\n",
       "                    --jp-widgets-color: white;\n",
       "                    --jp-widgets-label-color: white;\n",
       "                    --jp-ui-font-color1: white;\n",
       "                    --jp-layout-color2: #454545;\n",
       "                    background-color: #383838;\n",
       "                }\n",
       "\n",
       "                .geemap-dark .jupyter-button {\n",
       "                    --jp-layout-color3: #383838;\n",
       "                }\n",
       "\n",
       "                .geemap-colab {\n",
       "                    background-color: var(--colab-primary-surface-color, white);\n",
       "                }\n",
       "\n",
       "                .geemap-colab .jupyter-button {\n",
       "                    --jp-layout-color3: var(--colab-primary-surface-color, white);\n",
       "                }\n",
       "            </style>\n",
       "            "
      ],
      "text/plain": [
       "<IPython.core.display.HTML object>"
      ]
     },
     "metadata": {},
     "output_type": "display_data"
    }
   ],
   "source": [
    "# Define a function to count the number of pixels in the AOI\n",
    "# We can choose from which band the pixels should be counted (matters especially as not all bands have the same spatial resolution and\n",
    "# hence have different pixel count). We select B8 as we also use this band to calculate the NDVI later. The \"scale\" defines the spatial \n",
    "# resolution we want the pixels counted. 10m is the resolution of B8.\n",
    "\n",
    "def countValPixels(image, aoi):\n",
    "    pixels = image.select('B8').reduceRegion(\n",
    "        reducer=ee.Reducer.count(),\n",
    "        geometry=aoi,\n",
    "        scale=10)\n",
    "    return image.set('valPixels', pixels.get('B8'))"
   ]
  },
  {
   "cell_type": "code",
   "execution_count": 40,
   "id": "9b3cf30e-fe34-43a9-8bfa-54dc08445ed5",
   "metadata": {},
   "outputs": [
    {
     "data": {
      "text/html": [
       "\n",
       "            <style>\n",
       "                .geemap-dark {\n",
       "                    --jp-widgets-color: white;\n",
       "                    --jp-widgets-label-color: white;\n",
       "                    --jp-ui-font-color1: white;\n",
       "                    --jp-layout-color2: #454545;\n",
       "                    background-color: #383838;\n",
       "                }\n",
       "\n",
       "                .geemap-dark .jupyter-button {\n",
       "                    --jp-layout-color3: #383838;\n",
       "                }\n",
       "\n",
       "                .geemap-colab {\n",
       "                    background-color: var(--colab-primary-surface-color, white);\n",
       "                }\n",
       "\n",
       "                .geemap-colab .jupyter-button {\n",
       "                    --jp-layout-color3: var(--colab-primary-surface-color, white);\n",
       "                }\n",
       "            </style>\n",
       "            "
      ],
      "text/plain": [
       "<IPython.core.display.HTML object>"
      ]
     },
     "metadata": {},
     "output_type": "display_data"
    }
   ],
   "source": [
    "# Use the function above together with \".map()\" to add the pixel count as a new property to each of the images in the Collections\n",
    "# We need to use a \"lambda function\" as the function we want to use .map() with has two inputs.\n",
    "db_S2_cf = db_S2_cf.map(lambda image: countValPixels(image, aoi_db))\n",
    "ec_S2_cf = ec_S2_cf.map(lambda image: countValPixels(image, aoi_ec))\n",
    "agr_S2_cf = agr_S2_cf.map(lambda image: countValPixels(image, aoi_agr))"
   ]
  },
  {
   "cell_type": "markdown",
   "id": "182ac5b4-3bd2-4917-b946-bc9e7ab771b9",
   "metadata": {},
   "source": [
    "We can test whether the function worked by looking at, for example, the first 15 pixel count values of the ImageCollection. This also gives an indication of the threshold we should select. For the db Laegern site, the first few images are not useful as the AOI is masked. But we can assume that the AOI is 28 pixels big, as this is the maximum number we encounter. For the ec Davos site, the maximum number of pixels is 26 pixels even if we selected the same radius for the AOI generation. The agr Oensingen AOI is much smaller, so the maximum pixel count is also smaller. "
   ]
  },
  {
   "cell_type": "code",
   "execution_count": 49,
   "id": "b32ade30-a5fa-4491-b15f-ffe179187cf6",
   "metadata": {},
   "outputs": [
    {
     "data": {
      "text/html": [
       "\n",
       "            <style>\n",
       "                .geemap-dark {\n",
       "                    --jp-widgets-color: white;\n",
       "                    --jp-widgets-label-color: white;\n",
       "                    --jp-ui-font-color1: white;\n",
       "                    --jp-layout-color2: #454545;\n",
       "                    background-color: #383838;\n",
       "                }\n",
       "\n",
       "                .geemap-dark .jupyter-button {\n",
       "                    --jp-layout-color3: #383838;\n",
       "                }\n",
       "\n",
       "                .geemap-colab {\n",
       "                    background-color: var(--colab-primary-surface-color, white);\n",
       "                }\n",
       "\n",
       "                .geemap-colab .jupyter-button {\n",
       "                    --jp-layout-color3: var(--colab-primary-surface-color, white);\n",
       "                }\n",
       "            </style>\n",
       "            "
      ],
      "text/plain": [
       "<IPython.core.display.HTML object>"
      ]
     },
     "metadata": {},
     "output_type": "display_data"
    },
    {
     "name": "stdout",
     "output_type": "stream",
     "text": [
      "\n",
      "Printing the 'valPixels' property for the first 15 images:\n",
      "  - Image ID: COPERNICUS/S2_SR_HARMONIZED/20240104T103431_20240104T103427_T32TLT, Pixel Count: 0\n",
      "  - Image ID: COPERNICUS/S2_SR_HARMONIZED/20240104T103431_20240104T103427_T32TMT, Pixel Count: 0\n",
      "  - Image ID: COPERNICUS/S2_SR_HARMONIZED/20240109T103329_20240109T103324_T32TLT, Pixel Count: 0\n",
      "  - Image ID: COPERNICUS/S2_SR_HARMONIZED/20240109T103329_20240109T103324_T32TMT, Pixel Count: 0\n",
      "  - Image ID: COPERNICUS/S2_SR_HARMONIZED/20240114T103401_20240114T103359_T32TLT, Pixel Count: 0\n",
      "  - Image ID: COPERNICUS/S2_SR_HARMONIZED/20240114T103401_20240114T103359_T32TMT, Pixel Count: 0\n",
      "  - Image ID: COPERNICUS/S2_SR_HARMONIZED/20240119T103249_20240119T103252_T32TLT, Pixel Count: 0\n",
      "  - Image ID: COPERNICUS/S2_SR_HARMONIZED/20240119T103249_20240119T103252_T32TMT, Pixel Count: 0\n",
      "  - Image ID: COPERNICUS/S2_SR_HARMONIZED/20240124T103321_20240124T103322_T32TLT, Pixel Count: 0\n",
      "  - Image ID: COPERNICUS/S2_SR_HARMONIZED/20240124T103321_20240124T103322_T32TMT, Pixel Count: 0\n",
      "  - Image ID: COPERNICUS/S2_SR_HARMONIZED/20240129T103209_20240129T103204_T32TLT, Pixel Count: 0\n",
      "  - Image ID: COPERNICUS/S2_SR_HARMONIZED/20240129T103209_20240129T103204_T32TMT, Pixel Count: 0\n",
      "  - Image ID: COPERNICUS/S2_SR_HARMONIZED/20240203T103231_20240203T103234_T32TLT, Pixel Count: 7\n",
      "  - Image ID: COPERNICUS/S2_SR_HARMONIZED/20240203T103231_20240203T103234_T32TMT, Pixel Count: 7\n",
      "  - Image ID: COPERNICUS/S2_SR_HARMONIZED/20240208T103109_20240208T103112_T32TLT, Pixel Count: 0\n"
     ]
    }
   ],
   "source": [
    "print(\"\\nPrinting the 'valPixels' property for the first 15 images:\")\n",
    "count = 1\n",
    "for image in agr_S2_cf.toList(15).getInfo():\n",
    "    image_id = image['id']\n",
    "    pixel_count = image['properties']['valPixels']\n",
    "    print(f\"  - Image ID: {image_id}, Pixel Count: {pixel_count}\")\n",
    "    count += 1"
   ]
  },
  {
   "cell_type": "code",
   "execution_count": 54,
   "id": "5184d9cd-97b1-43c3-a326-ec2cd4890c82",
   "metadata": {},
   "outputs": [
    {
     "data": {
      "text/html": [
       "\n",
       "            <style>\n",
       "                .geemap-dark {\n",
       "                    --jp-widgets-color: white;\n",
       "                    --jp-widgets-label-color: white;\n",
       "                    --jp-ui-font-color1: white;\n",
       "                    --jp-layout-color2: #454545;\n",
       "                    background-color: #383838;\n",
       "                }\n",
       "\n",
       "                .geemap-dark .jupyter-button {\n",
       "                    --jp-layout-color3: #383838;\n",
       "                }\n",
       "\n",
       "                .geemap-colab {\n",
       "                    background-color: var(--colab-primary-surface-color, white);\n",
       "                }\n",
       "\n",
       "                .geemap-colab .jupyter-button {\n",
       "                    --jp-layout-color3: var(--colab-primary-surface-color, white);\n",
       "                }\n",
       "            </style>\n",
       "            "
      ],
      "text/plain": [
       "<IPython.core.display.HTML object>"
      ]
     },
     "metadata": {},
     "output_type": "display_data"
    }
   ],
   "source": [
    "# Filter images from the Collection where the pixel number is higher than a threshold\n",
    "db_S2_cf_filtered = db_S2_cf.filter(ee.Filter.gt('valPixels', 2)) # Laegern threshold of 2 pixels\n",
    "ec_S2_cf_filtered = ec_S2_cf.filter(ee.Filter.gt('valPixels', 2)) # Davos threshold of 2 pixels\n",
    "agr_S2_cf_filtered = agr_S2_cf.filter(ee.Filter.gt('valPixels', 1)) # Oensingen threshold of 1 pixel"
   ]
  },
  {
   "cell_type": "markdown",
   "id": "345362c7-e1fd-4ef0-9c7a-4087118a9e97",
   "metadata": {},
   "source": [
    "After filtering images from the Collections where too many pixels in the AOIs are masked due to clouds, we are left with a lot smaller ImageCollections. These we now use to calculate the NDVI and do out time series."
   ]
  },
  {
   "cell_type": "code",
   "execution_count": 55,
   "id": "194595ad-e665-42de-afeb-9109e4b7dd27",
   "metadata": {},
   "outputs": [
    {
     "data": {
      "text/html": [
       "\n",
       "            <style>\n",
       "                .geemap-dark {\n",
       "                    --jp-widgets-color: white;\n",
       "                    --jp-widgets-label-color: white;\n",
       "                    --jp-ui-font-color1: white;\n",
       "                    --jp-layout-color2: #454545;\n",
       "                    background-color: #383838;\n",
       "                }\n",
       "\n",
       "                .geemap-dark .jupyter-button {\n",
       "                    --jp-layout-color3: #383838;\n",
       "                }\n",
       "\n",
       "                .geemap-colab {\n",
       "                    background-color: var(--colab-primary-surface-color, white);\n",
       "                }\n",
       "\n",
       "                .geemap-colab .jupyter-button {\n",
       "                    --jp-layout-color3: var(--colab-primary-surface-color, white);\n",
       "                }\n",
       "            </style>\n",
       "            "
      ],
      "text/plain": [
       "<IPython.core.display.HTML object>"
      ]
     },
     "metadata": {},
     "output_type": "display_data"
    },
    {
     "name": "stdout",
     "output_type": "stream",
     "text": [
      "Number of images in study period for Laegern: 146\n",
      "Number of images in study period for Laegern after cloud filterig: 40\n",
      "Number of images in study period for Davos: 73\n",
      "Number of images in study period for Davos after cloud filterig: 32\n",
      "Number of images in study period for Oensingen: 144\n",
      "Number of images in study period for Oensingen after cloud filterig: 24\n"
     ]
    }
   ],
   "source": [
    "print('Number of images in study period for Laegern:', db_S2.size().getInfo()) \n",
    "print('Number of images in study period for Laegern after cloud filterig:', db_S2_cf_filtered.size().getInfo())\n",
    "print('Number of images in study period for Davos:', ec_S2.size().getInfo()) \n",
    "print('Number of images in study period for Davos after cloud filterig:', ec_S2_cf_filtered.size().getInfo())\n",
    "print('Number of images in study period for Oensingen:', agr_S2.size().getInfo()) \n",
    "print('Number of images in study period for Oensingen after cloud filterig:', agr_S2_cf_filtered.size().getInfo())"
   ]
  },
  {
   "cell_type": "markdown",
   "id": "9190425e-278f-4804-a5f8-3f12fef8a901",
   "metadata": {},
   "source": [
    "---"
   ]
  },
  {
   "cell_type": "markdown",
   "id": "1a187002-ed60-4da5-a927-c5b1a7396949",
   "metadata": {},
   "source": [
    "### Calculate the spectral index NDVI"
   ]
  },
  {
   "cell_type": "markdown",
   "id": "c2d82c86-f425-44aa-8383-976920a89086",
   "metadata": {},
   "source": [
    "**Normalized difference vegetation index - NDVI**<br>\n",
    "The normalized difference vegetation index (NDVI) was developed by Tucker et al. in 1970tes and is widely used to estimate the green vegetation$^{[1]}$. The index normalizes green leaf scattering in NIR with chlorophyll absorption in red wavelengths and uses the following formula$^{[2]}$:<br>\n",
    "\n",
    "$NDVI := \\frac {NIR - red}{NIR + red} = \\frac {B08 - B04}{B08 + B04}$ <br>"
   ]
  },
  {
   "cell_type": "code",
   "execution_count": 56,
   "id": "6a323c2b-c87f-4479-95e7-de9ddc7f36b1",
   "metadata": {},
   "outputs": [
    {
     "data": {
      "text/html": [
       "\n",
       "            <style>\n",
       "                .geemap-dark {\n",
       "                    --jp-widgets-color: white;\n",
       "                    --jp-widgets-label-color: white;\n",
       "                    --jp-ui-font-color1: white;\n",
       "                    --jp-layout-color2: #454545;\n",
       "                    background-color: #383838;\n",
       "                }\n",
       "\n",
       "                .geemap-dark .jupyter-button {\n",
       "                    --jp-layout-color3: #383838;\n",
       "                }\n",
       "\n",
       "                .geemap-colab {\n",
       "                    background-color: var(--colab-primary-surface-color, white);\n",
       "                }\n",
       "\n",
       "                .geemap-colab .jupyter-button {\n",
       "                    --jp-layout-color3: var(--colab-primary-surface-color, white);\n",
       "                }\n",
       "            </style>\n",
       "            "
      ],
      "text/plain": [
       "<IPython.core.display.HTML object>"
      ]
     },
     "metadata": {},
     "output_type": "display_data"
    }
   ],
   "source": [
    "# Define a function to add the NDVI as a new band to each image\n",
    "def calcNDVI(image):\n",
    "    return image.addBands(image.normalizedDifference(['B8', 'B4']).rename('NDVI'))"
   ]
  },
  {
   "cell_type": "code",
   "execution_count": 62,
   "id": "2026016b-0473-4056-b257-d6a47cc1ecb5",
   "metadata": {},
   "outputs": [
    {
     "data": {
      "text/html": [
       "\n",
       "            <style>\n",
       "                .geemap-dark {\n",
       "                    --jp-widgets-color: white;\n",
       "                    --jp-widgets-label-color: white;\n",
       "                    --jp-ui-font-color1: white;\n",
       "                    --jp-layout-color2: #454545;\n",
       "                    background-color: #383838;\n",
       "                }\n",
       "\n",
       "                .geemap-dark .jupyter-button {\n",
       "                    --jp-layout-color3: #383838;\n",
       "                }\n",
       "\n",
       "                .geemap-colab {\n",
       "                    background-color: var(--colab-primary-surface-color, white);\n",
       "                }\n",
       "\n",
       "                .geemap-colab .jupyter-button {\n",
       "                    --jp-layout-color3: var(--colab-primary-surface-color, white);\n",
       "                }\n",
       "            </style>\n",
       "            "
      ],
      "text/plain": [
       "<IPython.core.display.HTML object>"
      ]
     },
     "metadata": {},
     "output_type": "display_data"
    }
   ],
   "source": [
    "# Use the NDVI function and \".map()\" to add the index as a new band to each image in the filtered Collection\n",
    "db_S2_ndvi = db_S2_cf_filtered.map(calcNDVI)\n",
    "ec_S2_ndvi = ec_S2_cf_filtered.map(calcNDVI)\n",
    "agr_S2_ndvi = agr_S2_cf_filtered.map(calcNDVI)"
   ]
  },
  {
   "cell_type": "markdown",
   "id": "d7929faa-c8d1-4a43-9a8a-dee045059aa0",
   "metadata": {},
   "source": [
    "### Create time series"
   ]
  },
  {
   "cell_type": "code",
   "execution_count": null,
   "id": "d99dc0e5-7d3d-41dc-b48a-90e56054d6d4",
   "metadata": {},
   "outputs": [],
   "source": [
    " "
   ]
  },
  {
   "cell_type": "markdown",
   "id": "1d737340-0731-4167-813c-2c4683968e5a",
   "metadata": {},
   "source": [
    "*Literature*<br>\n",
    "$^{[1]}$: Tucker, C.J., 1979. Red and photographic infrared linear combinations for monitoring vegetation. Remote Sensing of Environment 8, 127–150.<br>\n",
    "$^{[2]}$: https://custom-scripts.sentinel-hub.com/sentinel-2/ndvi/<br>"
   ]
  }
 ],
 "metadata": {
  "kernelspec": {
   "display_name": "Python 3 (ipykernel)",
   "language": "python",
   "name": "python3"
  },
  "language_info": {
   "codemirror_mode": {
    "name": "ipython",
    "version": 3
   },
   "file_extension": ".py",
   "mimetype": "text/x-python",
   "name": "python",
   "nbconvert_exporter": "python",
   "pygments_lexer": "ipython3",
   "version": "3.13.3"
  }
 },
 "nbformat": 4,
 "nbformat_minor": 5
}
